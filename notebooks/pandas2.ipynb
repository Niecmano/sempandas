{
 "cells": [
  {
   "metadata": {},
   "cell_type": "markdown",
   "source": [
    "# II deo\n",
    "### Pre same obrade podataka i donošenja zaključaka, neophodno je tzv. \"sirovi\" (raw) dataset da sredimo tako da bude pogodan za obradu. Jedna od glavnih aktivnosti u okviru tog sređivanja jeste rešavanje problema nedostajućih vrednosti."
   ],
   "id": "5abb40a3c6e8542d"
  },
  {
   "cell_type": "code",
   "id": "initial_id",
   "metadata": {
    "collapsed": true,
    "ExecuteTime": {
     "end_time": "2025-01-23T22:35:45.771804Z",
     "start_time": "2025-01-23T22:35:45.721432Z"
    }
   },
   "source": [
    "import pandas as pd\n",
    "from pandas import Series\n",
    "\n",
    "dfr = pd.read_csv('../data/brit.csv')\n",
    "dfr.sample(10)"
   ],
   "outputs": [
    {
     "data": {
      "text/plain": [
       "                        Title                   AlbumName  \\\n",
       "1122      Love Is All Around                   Cellophane   \n",
       "59              I Meant You            Satisfied with You   \n",
       "992                Each Time   Take Me for What I'm Worth   \n",
       "431          Pink Champagne                  Fame at Last   \n",
       "1037                   Today      Love Me, Please Love Me   \n",
       "1217  I Got My Mojo Working                    Begin Here   \n",
       "432         Monkeying Around                 Fame at Last   \n",
       "1117            It's Showing                   Cellophane   \n",
       "761     A Well Respected Man                  Kinda Kinks   \n",
       "338         The War Drags On                    Fairytale   \n",
       "\n",
       "                                           Record Label  \\\n",
       "1122                                         Repertoire   \n",
       "59                                                  BMG   \n",
       "992                                                 Pye   \n",
       "431                                 Polydor / Universal   \n",
       "1037                                                Pye   \n",
       "1217                                   Big Beat Records   \n",
       "432                                 Polydor / Universal   \n",
       "1117                                         Repertoire   \n",
       "761                                           Sanctuary   \n",
       "338   Castle Music Ltd. / Fontana / Sanctuary / Sanc...   \n",
       "\n",
       "                                              Performer  Track.number  \\\n",
       "1122                                         The Troggs            12   \n",
       "59                                  The Dave Clark Five             4   \n",
       "992                                       The Searchers             9   \n",
       "431   Georgie Fame                                  ...             7   \n",
       "1037                                        Sandie Shaw            17   \n",
       "1217                                        The Zombies            14   \n",
       "432                                        Georgie Fame             8   \n",
       "1117                                         The Troggs             7   \n",
       "761                                           The Kinks            21   \n",
       "338                                             Donovan            15   \n",
       "\n",
       "     Song.duration                                     Composer  Year  \\\n",
       "1122          3:00                                  Reg Presley  1967   \n",
       "59            1:59                    Dave Clark / Denis Payton  1966   \n",
       "992           2:48                             Jackie DeShannon  1965   \n",
       "431           3:54  Harold Adamson / Leo McCarey / Harry Warren  1965   \n",
       "1037          2:24                                Chris Andrews  1967   \n",
       "1217          3:36        Preston Foster / McKinley Morganfield  1965   \n",
       "432           2:12                                 William Bell  1965   \n",
       "1117          2:56                                  Reg Presley  1967   \n",
       "761           2:43                                   Ray Davies  1965   \n",
       "338           3:44                                 Mick Softley  1965   \n",
       "\n",
       "                           Genre  \\\n",
       "1122                    Pop/Rock   \n",
       "59                      Pop/Rock   \n",
       "992                     Pop/Rock   \n",
       "431   Pop/Rock, R&B, Jazz, Blues   \n",
       "1037                    Pop/Rock   \n",
       "1217                    Pop/Rock   \n",
       "432   Pop/Rock, R&B, Jazz, Blues   \n",
       "1117                    Pop/Rock   \n",
       "761                     Pop/Rock   \n",
       "338                         Folk   \n",
       "\n",
       "                                                 Styles  ...  speechiness  \\\n",
       "1122    British Invasion, AM Pop, Contemporary Pop/Rock  ...       0.0273   \n",
       "59                        British Invasion, Rock & Roll  ...       0.0302   \n",
       "992   British Invasion, Contemporary Pop/Rock, Folk-...  ...       0.0418   \n",
       "431   British Invasion, Blue-Eyed Soul, Soul, Vocal ...  ...       0.0279   \n",
       "1037                           British Invasion, AM Pop  ...       0.0297   \n",
       "1217  British Invasion, Baroque Pop, AM Pop, Contemp...  ...       0.0952   \n",
       "432   British Invasion, Blue-Eyed Soul, Soul, Vocal ...  ...       0.0482   \n",
       "1117    British Invasion, AM Pop, Contemporary Pop/Rock  ...          NaN   \n",
       "761   British Invasion, Contemporary Pop/Rock, Rock ...  ...       0.1180   \n",
       "338   British Folk, British Invasion, Folk Revival, ...  ...       0.0349   \n",
       "\n",
       "        tempo  valence  duration_ms  popularity  shake.the.audience  romantic  \\\n",
       "1122   94.162    0.548     178160.0         0.0            0.101216  0.001196   \n",
       "59    140.653    0.791     119840.0         2.0            0.001595  0.001595   \n",
       "992   128.790    0.557     167640.0         3.0            0.001548  0.000892   \n",
       "431    67.468    0.559     234013.0         9.0            0.003509  0.003509   \n",
       "1037  135.433    0.926     138867.0         9.0            0.086781  0.001595   \n",
       "1217  132.940    0.686     215467.0         5.0            0.001074  0.000849   \n",
       "432   127.478    0.878     132013.0        18.0            0.002506  0.002506   \n",
       "1117      NaN      NaN          NaN         NaN            0.000478  0.001754   \n",
       "761   162.154    0.583     161587.0         0.0            0.000895  0.000786   \n",
       "338   180.131    0.123     220267.0        22.0            0.003759  0.218045   \n",
       "\n",
       "       obscene  family.spiritual   sadness  \n",
       "1122  0.089131          0.003509  0.001032  \n",
       "59    0.001595          0.075972  0.001595  \n",
       "992   0.002024          0.000774  0.001120  \n",
       "431   0.003509          0.003509  0.003509  \n",
       "1037  0.001595          0.001385  0.000892  \n",
       "1217  0.302047          0.005848  0.060894  \n",
       "432   0.002506          0.002506  0.353502  \n",
       "1117  0.277629          0.000810  0.001224  \n",
       "761   0.152048          0.000721  0.000822  \n",
       "338   0.003759          0.208801  0.317815  \n",
       "\n",
       "[10 rows x 26 columns]"
      ],
      "text/html": [
       "<div>\n",
       "<style scoped>\n",
       "    .dataframe tbody tr th:only-of-type {\n",
       "        vertical-align: middle;\n",
       "    }\n",
       "\n",
       "    .dataframe tbody tr th {\n",
       "        vertical-align: top;\n",
       "    }\n",
       "\n",
       "    .dataframe thead th {\n",
       "        text-align: right;\n",
       "    }\n",
       "</style>\n",
       "<table border=\"1\" class=\"dataframe\">\n",
       "  <thead>\n",
       "    <tr style=\"text-align: right;\">\n",
       "      <th></th>\n",
       "      <th>Title</th>\n",
       "      <th>AlbumName</th>\n",
       "      <th>Record Label</th>\n",
       "      <th>Performer</th>\n",
       "      <th>Track.number</th>\n",
       "      <th>Song.duration</th>\n",
       "      <th>Composer</th>\n",
       "      <th>Year</th>\n",
       "      <th>Genre</th>\n",
       "      <th>Styles</th>\n",
       "      <th>...</th>\n",
       "      <th>speechiness</th>\n",
       "      <th>tempo</th>\n",
       "      <th>valence</th>\n",
       "      <th>duration_ms</th>\n",
       "      <th>popularity</th>\n",
       "      <th>shake.the.audience</th>\n",
       "      <th>romantic</th>\n",
       "      <th>obscene</th>\n",
       "      <th>family.spiritual</th>\n",
       "      <th>sadness</th>\n",
       "    </tr>\n",
       "  </thead>\n",
       "  <tbody>\n",
       "    <tr>\n",
       "      <th>1122</th>\n",
       "      <td>Love Is All Around</td>\n",
       "      <td>Cellophane</td>\n",
       "      <td>Repertoire</td>\n",
       "      <td>The Troggs</td>\n",
       "      <td>12</td>\n",
       "      <td>3:00</td>\n",
       "      <td>Reg Presley</td>\n",
       "      <td>1967</td>\n",
       "      <td>Pop/Rock</td>\n",
       "      <td>British Invasion, AM Pop, Contemporary Pop/Rock</td>\n",
       "      <td>...</td>\n",
       "      <td>0.0273</td>\n",
       "      <td>94.162</td>\n",
       "      <td>0.548</td>\n",
       "      <td>178160.0</td>\n",
       "      <td>0.0</td>\n",
       "      <td>0.101216</td>\n",
       "      <td>0.001196</td>\n",
       "      <td>0.089131</td>\n",
       "      <td>0.003509</td>\n",
       "      <td>0.001032</td>\n",
       "    </tr>\n",
       "    <tr>\n",
       "      <th>59</th>\n",
       "      <td>I Meant You</td>\n",
       "      <td>Satisfied with You</td>\n",
       "      <td>BMG</td>\n",
       "      <td>The Dave Clark Five</td>\n",
       "      <td>4</td>\n",
       "      <td>1:59</td>\n",
       "      <td>Dave Clark / Denis Payton</td>\n",
       "      <td>1966</td>\n",
       "      <td>Pop/Rock</td>\n",
       "      <td>British Invasion, Rock &amp; Roll</td>\n",
       "      <td>...</td>\n",
       "      <td>0.0302</td>\n",
       "      <td>140.653</td>\n",
       "      <td>0.791</td>\n",
       "      <td>119840.0</td>\n",
       "      <td>2.0</td>\n",
       "      <td>0.001595</td>\n",
       "      <td>0.001595</td>\n",
       "      <td>0.001595</td>\n",
       "      <td>0.075972</td>\n",
       "      <td>0.001595</td>\n",
       "    </tr>\n",
       "    <tr>\n",
       "      <th>992</th>\n",
       "      <td>Each Time</td>\n",
       "      <td>Take Me for What I'm Worth</td>\n",
       "      <td>Pye</td>\n",
       "      <td>The Searchers</td>\n",
       "      <td>9</td>\n",
       "      <td>2:48</td>\n",
       "      <td>Jackie DeShannon</td>\n",
       "      <td>1965</td>\n",
       "      <td>Pop/Rock</td>\n",
       "      <td>British Invasion, Contemporary Pop/Rock, Folk-...</td>\n",
       "      <td>...</td>\n",
       "      <td>0.0418</td>\n",
       "      <td>128.790</td>\n",
       "      <td>0.557</td>\n",
       "      <td>167640.0</td>\n",
       "      <td>3.0</td>\n",
       "      <td>0.001548</td>\n",
       "      <td>0.000892</td>\n",
       "      <td>0.002024</td>\n",
       "      <td>0.000774</td>\n",
       "      <td>0.001120</td>\n",
       "    </tr>\n",
       "    <tr>\n",
       "      <th>431</th>\n",
       "      <td>Pink Champagne</td>\n",
       "      <td>Fame at Last</td>\n",
       "      <td>Polydor / Universal</td>\n",
       "      <td>Georgie Fame                                  ...</td>\n",
       "      <td>7</td>\n",
       "      <td>3:54</td>\n",
       "      <td>Harold Adamson / Leo McCarey / Harry Warren</td>\n",
       "      <td>1965</td>\n",
       "      <td>Pop/Rock, R&amp;B, Jazz, Blues</td>\n",
       "      <td>British Invasion, Blue-Eyed Soul, Soul, Vocal ...</td>\n",
       "      <td>...</td>\n",
       "      <td>0.0279</td>\n",
       "      <td>67.468</td>\n",
       "      <td>0.559</td>\n",
       "      <td>234013.0</td>\n",
       "      <td>9.0</td>\n",
       "      <td>0.003509</td>\n",
       "      <td>0.003509</td>\n",
       "      <td>0.003509</td>\n",
       "      <td>0.003509</td>\n",
       "      <td>0.003509</td>\n",
       "    </tr>\n",
       "    <tr>\n",
       "      <th>1037</th>\n",
       "      <td>Today</td>\n",
       "      <td>Love Me, Please Love Me</td>\n",
       "      <td>Pye</td>\n",
       "      <td>Sandie Shaw</td>\n",
       "      <td>17</td>\n",
       "      <td>2:24</td>\n",
       "      <td>Chris Andrews</td>\n",
       "      <td>1967</td>\n",
       "      <td>Pop/Rock</td>\n",
       "      <td>British Invasion, AM Pop</td>\n",
       "      <td>...</td>\n",
       "      <td>0.0297</td>\n",
       "      <td>135.433</td>\n",
       "      <td>0.926</td>\n",
       "      <td>138867.0</td>\n",
       "      <td>9.0</td>\n",
       "      <td>0.086781</td>\n",
       "      <td>0.001595</td>\n",
       "      <td>0.001595</td>\n",
       "      <td>0.001385</td>\n",
       "      <td>0.000892</td>\n",
       "    </tr>\n",
       "    <tr>\n",
       "      <th>1217</th>\n",
       "      <td>I Got My Mojo Working</td>\n",
       "      <td>Begin Here</td>\n",
       "      <td>Big Beat Records</td>\n",
       "      <td>The Zombies</td>\n",
       "      <td>14</td>\n",
       "      <td>3:36</td>\n",
       "      <td>Preston Foster / McKinley Morganfield</td>\n",
       "      <td>1965</td>\n",
       "      <td>Pop/Rock</td>\n",
       "      <td>British Invasion, Baroque Pop, AM Pop, Contemp...</td>\n",
       "      <td>...</td>\n",
       "      <td>0.0952</td>\n",
       "      <td>132.940</td>\n",
       "      <td>0.686</td>\n",
       "      <td>215467.0</td>\n",
       "      <td>5.0</td>\n",
       "      <td>0.001074</td>\n",
       "      <td>0.000849</td>\n",
       "      <td>0.302047</td>\n",
       "      <td>0.005848</td>\n",
       "      <td>0.060894</td>\n",
       "    </tr>\n",
       "    <tr>\n",
       "      <th>432</th>\n",
       "      <td>Monkeying Around</td>\n",
       "      <td>Fame at Last</td>\n",
       "      <td>Polydor / Universal</td>\n",
       "      <td>Georgie Fame</td>\n",
       "      <td>8</td>\n",
       "      <td>2:12</td>\n",
       "      <td>William Bell</td>\n",
       "      <td>1965</td>\n",
       "      <td>Pop/Rock, R&amp;B, Jazz, Blues</td>\n",
       "      <td>British Invasion, Blue-Eyed Soul, Soul, Vocal ...</td>\n",
       "      <td>...</td>\n",
       "      <td>0.0482</td>\n",
       "      <td>127.478</td>\n",
       "      <td>0.878</td>\n",
       "      <td>132013.0</td>\n",
       "      <td>18.0</td>\n",
       "      <td>0.002506</td>\n",
       "      <td>0.002506</td>\n",
       "      <td>0.002506</td>\n",
       "      <td>0.002506</td>\n",
       "      <td>0.353502</td>\n",
       "    </tr>\n",
       "    <tr>\n",
       "      <th>1117</th>\n",
       "      <td>It's Showing</td>\n",
       "      <td>Cellophane</td>\n",
       "      <td>Repertoire</td>\n",
       "      <td>The Troggs</td>\n",
       "      <td>7</td>\n",
       "      <td>2:56</td>\n",
       "      <td>Reg Presley</td>\n",
       "      <td>1967</td>\n",
       "      <td>Pop/Rock</td>\n",
       "      <td>British Invasion, AM Pop, Contemporary Pop/Rock</td>\n",
       "      <td>...</td>\n",
       "      <td>NaN</td>\n",
       "      <td>NaN</td>\n",
       "      <td>NaN</td>\n",
       "      <td>NaN</td>\n",
       "      <td>NaN</td>\n",
       "      <td>0.000478</td>\n",
       "      <td>0.001754</td>\n",
       "      <td>0.277629</td>\n",
       "      <td>0.000810</td>\n",
       "      <td>0.001224</td>\n",
       "    </tr>\n",
       "    <tr>\n",
       "      <th>761</th>\n",
       "      <td>A Well Respected Man</td>\n",
       "      <td>Kinda Kinks</td>\n",
       "      <td>Sanctuary</td>\n",
       "      <td>The Kinks</td>\n",
       "      <td>21</td>\n",
       "      <td>2:43</td>\n",
       "      <td>Ray Davies</td>\n",
       "      <td>1965</td>\n",
       "      <td>Pop/Rock</td>\n",
       "      <td>British Invasion, Contemporary Pop/Rock, Rock ...</td>\n",
       "      <td>...</td>\n",
       "      <td>0.1180</td>\n",
       "      <td>162.154</td>\n",
       "      <td>0.583</td>\n",
       "      <td>161587.0</td>\n",
       "      <td>0.0</td>\n",
       "      <td>0.000895</td>\n",
       "      <td>0.000786</td>\n",
       "      <td>0.152048</td>\n",
       "      <td>0.000721</td>\n",
       "      <td>0.000822</td>\n",
       "    </tr>\n",
       "    <tr>\n",
       "      <th>338</th>\n",
       "      <td>The War Drags On</td>\n",
       "      <td>Fairytale</td>\n",
       "      <td>Castle Music Ltd. / Fontana / Sanctuary / Sanc...</td>\n",
       "      <td>Donovan</td>\n",
       "      <td>15</td>\n",
       "      <td>3:44</td>\n",
       "      <td>Mick Softley</td>\n",
       "      <td>1965</td>\n",
       "      <td>Folk</td>\n",
       "      <td>British Folk, British Invasion, Folk Revival, ...</td>\n",
       "      <td>...</td>\n",
       "      <td>0.0349</td>\n",
       "      <td>180.131</td>\n",
       "      <td>0.123</td>\n",
       "      <td>220267.0</td>\n",
       "      <td>22.0</td>\n",
       "      <td>0.003759</td>\n",
       "      <td>0.218045</td>\n",
       "      <td>0.003759</td>\n",
       "      <td>0.208801</td>\n",
       "      <td>0.317815</td>\n",
       "    </tr>\n",
       "  </tbody>\n",
       "</table>\n",
       "<p>10 rows × 26 columns</p>\n",
       "</div>"
      ]
     },
     "execution_count": 2,
     "metadata": {},
     "output_type": "execute_result"
    }
   ],
   "execution_count": 2
  },
  {
   "metadata": {},
   "cell_type": "markdown",
   "source": "### Najpre ćemo utvrditi koliko nedostajućih (NaN/None) vrednosti ima u svakoj koloni. Metoda isna() preslikava svako polje datafrejma u True/False (ako je polje NaN dobiće vrednost False).",
   "id": "ddff078ea9fb624d"
  },
  {
   "metadata": {
    "ExecuteTime": {
     "end_time": "2025-01-23T13:01:39.370329Z",
     "start_time": "2025-01-23T13:01:39.361577Z"
    }
   },
   "cell_type": "code",
   "source": "dfr.isna().sum().sort_values(ascending=False)",
   "id": "272e4e4c3a814c9e",
   "outputs": [
    {
     "data": {
      "text/plain": [
       "duration_ms           127\n",
       "valence               127\n",
       "tempo                 127\n",
       "speechiness           127\n",
       "loudness              127\n",
       "liveness              127\n",
       "instrumentalness      127\n",
       "energy                127\n",
       "danceability          127\n",
       "acousticness          127\n",
       "popularity            127\n",
       "Song.duration          43\n",
       "Record Label            3\n",
       "Composer                0\n",
       "Track.number            0\n",
       "Performer               0\n",
       "Title                   0\n",
       "AlbumName               0\n",
       "Styles                  0\n",
       "Genre                   0\n",
       "Year                    0\n",
       "shake.the.audience      0\n",
       "romantic                0\n",
       "obscene                 0\n",
       "family.spiritual        0\n",
       "sadness                 0\n",
       "dtype: int64"
      ]
     },
     "execution_count": 2,
     "metadata": {},
     "output_type": "execute_result"
    }
   ],
   "execution_count": 2
  },
  {
   "metadata": {},
   "cell_type": "markdown",
   "source": [
    "## 1. varijanta: popunjavanje nedostajućih na osnovu poznatih vrednosti\n",
    " ### Nedostajućim vrednostima kolone `loudness` biće dodeljena srednja vrednost te kolone. Nakon popunjavanja nedostajucih vrednosti korišćenjem metode `fillna`, metoda `value_counts` nam vraća broj pojavljivanja svake jedinstvene vrednosti. Srednja vrednost se pojavljuje najčešće, i to kod svih 127 prethodno nedostajućih polja."
   ],
   "id": "39abae25a1df023"
  },
  {
   "metadata": {
    "ExecuteTime": {
     "end_time": "2025-01-23T13:01:58.054171Z",
     "start_time": "2025-01-23T13:01:58.046589Z"
    }
   },
   "cell_type": "code",
   "source": [
    "dfr['loudness'] = dfr['loudness'].fillna(value=dfr['loudness'].mean())\n",
    "dfr['loudness'].value_counts()"
   ],
   "id": "42fc1e9105486de5",
   "outputs": [
    {
     "data": {
      "text/plain": [
       "loudness\n",
       "-9.566823     127\n",
       "-9.197000       3\n",
       "-8.887000       3\n",
       "-9.436000       3\n",
       "-10.086000      3\n",
       "             ... \n",
       "-9.310000       1\n",
       "-9.562000       1\n",
       "-9.299000       1\n",
       "-11.992000      1\n",
       "-9.279000       1\n",
       "Name: count, Length: 1028, dtype: int64"
      ]
     },
     "execution_count": 3,
     "metadata": {},
     "output_type": "execute_result"
    }
   ],
   "execution_count": 3
  },
  {
   "metadata": {},
   "cell_type": "markdown",
   "source": [
    "## 2. varijanta: uklanjanje redova koji sadrže nedostajuće vrednosti\n",
    " ### Uklonićemo sve redove kod kojih kolonama energy i tempo nedostaje vrednost, koristeći metodu `dropna`. Kod `subset` parametra navode se kolone za koje se nedostajuće vrednosti razmatraju, dok parametar `how` uzima vrednost `all` (red se briše samo ako su sve vrednosti kolona iz subseta nedostajuće) ili `any` (red se briše ako nedostaje bilo koja vrednost iz subseta). Kako bismo efekat ove naredbe preneli na naš datafrejm, parametar `inplace` postavljamo na True."
   ],
   "id": "ed852e276f7f3964"
  },
  {
   "metadata": {
    "ExecuteTime": {
     "end_time": "2025-01-23T13:23:51.759649Z",
     "start_time": "2025-01-23T13:23:51.751126Z"
    }
   },
   "cell_type": "code",
   "source": [
    "dfr.dropna(subset=['energy','tempo'],how='all', inplace=True)\n",
    "dfr.isna().sum().sort_values(ascending=False)"
   ],
   "id": "ebee01677ea1ddd2",
   "outputs": [
    {
     "data": {
      "text/plain": [
       "Song.duration         32\n",
       "Record Label           3\n",
       "AlbumName              0\n",
       "Title                  0\n",
       "Performer              0\n",
       "Track.number           0\n",
       "Composer               0\n",
       "Year                   0\n",
       "Genre                  0\n",
       "Styles                 0\n",
       "acousticness           0\n",
       "danceability           0\n",
       "energy                 0\n",
       "instrumentalness       0\n",
       "liveness               0\n",
       "loudness               0\n",
       "speechiness            0\n",
       "tempo                  0\n",
       "valence                0\n",
       "duration_ms            0\n",
       "popularity             0\n",
       "shake.the.audience     0\n",
       "romantic               0\n",
       "obscene                0\n",
       "family.spiritual       0\n",
       "sadness                0\n",
       "dtype: int64"
      ]
     },
     "execution_count": 25,
     "metadata": {},
     "output_type": "execute_result"
    }
   ],
   "execution_count": 25
  },
  {
   "metadata": {},
   "cell_type": "markdown",
   "source": "### Ovakav način regulisanja nedostajućih vrednosti pogodniji je za nenumeričke kolone, jer kod njih nije moguće dobiti srednju vrednost kolone. Kolona `Record Label` je kategorička, stoga je kod nje najbolje primeniti metodu `dropna`.",
   "id": "1423b5e696c324fd"
  },
  {
   "metadata": {
    "ExecuteTime": {
     "end_time": "2025-01-23T13:48:35.736399Z",
     "start_time": "2025-01-23T13:48:35.728023Z"
    }
   },
   "cell_type": "code",
   "source": "dfr.dropna(subset=['Record Label', 'Song.duration'], inplace=True)",
   "id": "e2e7a7c531983f5f",
   "outputs": [
    {
     "data": {
      "text/plain": [
       "Title                 0\n",
       "AlbumName             0\n",
       "Record Label          0\n",
       "Performer             0\n",
       "Track.number          0\n",
       "Song.duration         0\n",
       "Composer              0\n",
       "Year                  0\n",
       "Genre                 0\n",
       "Styles                0\n",
       "acousticness          0\n",
       "danceability          0\n",
       "energy                0\n",
       "instrumentalness      0\n",
       "liveness              0\n",
       "loudness              0\n",
       "speechiness           0\n",
       "tempo                 0\n",
       "valence               0\n",
       "duration_ms           0\n",
       "popularity            0\n",
       "shake.the.audience    0\n",
       "romantic              0\n",
       "obscene               0\n",
       "family.spiritual      0\n",
       "sadness               0\n",
       "dtype: int64"
      ]
     },
     "execution_count": 38,
     "metadata": {},
     "output_type": "execute_result"
    }
   ],
   "execution_count": 38
  },
  {
   "metadata": {},
   "cell_type": "markdown",
   "source": "### Budući da smo otklonili sve nedostajuće vrednosti, izmenjeni dataset ćemo sačuvati u novi csv fajl.",
   "id": "59f76956686577cd"
  },
  {
   "metadata": {
    "ExecuteTime": {
     "end_time": "2025-01-23T13:47:55.037500Z",
     "start_time": "2025-01-23T13:47:55.012578Z"
    }
   },
   "cell_type": "code",
   "source": "dfr.to_csv('../data/brit_bez_NaN.csv', index=False)",
   "id": "3cb6044b27857083",
   "outputs": [],
   "execution_count": 37
  },
  {
   "metadata": {},
   "cell_type": "markdown",
   "source": "### Sada ćemo učitati fajl koji smo sačuvali kako bismo nastavili njegovo sređivanje. Izvršićemo sređivanje tekstualnih kolona. U datafrejmu ove kolone su tipa `object`.",
   "id": "f50475616e92dda2"
  },
  {
   "metadata": {
    "ExecuteTime": {
     "end_time": "2025-01-23T23:23:12.273123Z",
     "start_time": "2025-01-23T23:23:12.253060Z"
    }
   },
   "cell_type": "code",
   "source": [
    "dfr2 = pd.read_csv('../data/brit_bez_NaN.csv')\n",
    "dfr2.select_dtypes(include='object')"
   ],
   "id": "4d2a92b8c145f4c7",
   "outputs": [
    {
     "data": {
      "text/plain": [
       "                            Title      AlbumName               Record Label  \\\n",
       "0                 Glad All Over    Glad All Over                        BMG   \n",
       "1               All of the Time    Glad All Over                        BMG   \n",
       "2               Crying Over You    Glad All Over                        BMG   \n",
       "3                          Stay    Glad All Over                        BMG   \n",
       "4                      Chaquita    Glad All Over                        BMG   \n",
       "...                           ...            ...                        ...   \n",
       "1071                 Leave Me Be      I Love You  Varèse Sarabande / Varese   \n",
       "1072     I Can't Make up My Mind      I Love You  Varèse Sarabande / Varese   \n",
       "1073                Remember You      I Love You  Varèse Sarabande / Varese   \n",
       "1074           Just Out of Reach      I Love You  Varèse Sarabande / Varese   \n",
       "1075  She Does Everything for Me      I Love You  Varèse Sarabande / Varese   \n",
       "\n",
       "                Performer Song.duration                         Composer  \\\n",
       "0     The Dave Clark Five          2:43          Dave Clark / Mike Smith   \n",
       "1     The Dave Clark Five          2:15          Dave Clark / Mike Smith   \n",
       "2     The Dave Clark Five          2:09      Dave Clark / Lenny Davidson   \n",
       "3     The Dave Clark Five          2:09  Sobian Fahey / Maurice Williams   \n",
       "4     The Dave Clark Five          2:13          Dave Clark / Mike Smith   \n",
       "...                   ...           ...                              ...   \n",
       "1071          The Zombies          2:08                      Chris White   \n",
       "1072          The Zombies          2:33                      Chris White   \n",
       "1073          The Zombies          1:58                      Chris White   \n",
       "1074          The Zombies          2:08                  Colin Blunstone   \n",
       "1075          The Zombies          2:15                       Rod Argent   \n",
       "\n",
       "         Genre                                             Styles  \n",
       "0     Pop/Rock      British Invasion, Early Pop/Rock, Rock & Roll  \n",
       "1     Pop/Rock      British Invasion, Early Pop/Rock, Rock & Roll  \n",
       "2     Pop/Rock      British Invasion, Early Pop/Rock, Rock & Roll  \n",
       "3     Pop/Rock      British Invasion, Early Pop/Rock, Rock & Roll  \n",
       "4     Pop/Rock      British Invasion, Early Pop/Rock, Rock & Roll  \n",
       "...        ...                                                ...  \n",
       "1071  Pop/Rock  British Invasion, Baroque Pop, AM Pop, Contemp...  \n",
       "1072  Pop/Rock  British Invasion, Baroque Pop, AM Pop, Contemp...  \n",
       "1073  Pop/Rock  British Invasion, Baroque Pop, AM Pop, Contemp...  \n",
       "1074  Pop/Rock  British Invasion, Baroque Pop, AM Pop, Contemp...  \n",
       "1075  Pop/Rock  British Invasion, Baroque Pop, AM Pop, Contemp...  \n",
       "\n",
       "[1076 rows x 8 columns]"
      ],
      "text/html": [
       "<div>\n",
       "<style scoped>\n",
       "    .dataframe tbody tr th:only-of-type {\n",
       "        vertical-align: middle;\n",
       "    }\n",
       "\n",
       "    .dataframe tbody tr th {\n",
       "        vertical-align: top;\n",
       "    }\n",
       "\n",
       "    .dataframe thead th {\n",
       "        text-align: right;\n",
       "    }\n",
       "</style>\n",
       "<table border=\"1\" class=\"dataframe\">\n",
       "  <thead>\n",
       "    <tr style=\"text-align: right;\">\n",
       "      <th></th>\n",
       "      <th>Title</th>\n",
       "      <th>AlbumName</th>\n",
       "      <th>Record Label</th>\n",
       "      <th>Performer</th>\n",
       "      <th>Song.duration</th>\n",
       "      <th>Composer</th>\n",
       "      <th>Genre</th>\n",
       "      <th>Styles</th>\n",
       "    </tr>\n",
       "  </thead>\n",
       "  <tbody>\n",
       "    <tr>\n",
       "      <th>0</th>\n",
       "      <td>Glad All Over</td>\n",
       "      <td>Glad All Over</td>\n",
       "      <td>BMG</td>\n",
       "      <td>The Dave Clark Five</td>\n",
       "      <td>2:43</td>\n",
       "      <td>Dave Clark / Mike Smith</td>\n",
       "      <td>Pop/Rock</td>\n",
       "      <td>British Invasion, Early Pop/Rock, Rock &amp; Roll</td>\n",
       "    </tr>\n",
       "    <tr>\n",
       "      <th>1</th>\n",
       "      <td>All of the Time</td>\n",
       "      <td>Glad All Over</td>\n",
       "      <td>BMG</td>\n",
       "      <td>The Dave Clark Five</td>\n",
       "      <td>2:15</td>\n",
       "      <td>Dave Clark / Mike Smith</td>\n",
       "      <td>Pop/Rock</td>\n",
       "      <td>British Invasion, Early Pop/Rock, Rock &amp; Roll</td>\n",
       "    </tr>\n",
       "    <tr>\n",
       "      <th>2</th>\n",
       "      <td>Crying Over You</td>\n",
       "      <td>Glad All Over</td>\n",
       "      <td>BMG</td>\n",
       "      <td>The Dave Clark Five</td>\n",
       "      <td>2:09</td>\n",
       "      <td>Dave Clark / Lenny Davidson</td>\n",
       "      <td>Pop/Rock</td>\n",
       "      <td>British Invasion, Early Pop/Rock, Rock &amp; Roll</td>\n",
       "    </tr>\n",
       "    <tr>\n",
       "      <th>3</th>\n",
       "      <td>Stay</td>\n",
       "      <td>Glad All Over</td>\n",
       "      <td>BMG</td>\n",
       "      <td>The Dave Clark Five</td>\n",
       "      <td>2:09</td>\n",
       "      <td>Sobian Fahey / Maurice Williams</td>\n",
       "      <td>Pop/Rock</td>\n",
       "      <td>British Invasion, Early Pop/Rock, Rock &amp; Roll</td>\n",
       "    </tr>\n",
       "    <tr>\n",
       "      <th>4</th>\n",
       "      <td>Chaquita</td>\n",
       "      <td>Glad All Over</td>\n",
       "      <td>BMG</td>\n",
       "      <td>The Dave Clark Five</td>\n",
       "      <td>2:13</td>\n",
       "      <td>Dave Clark / Mike Smith</td>\n",
       "      <td>Pop/Rock</td>\n",
       "      <td>British Invasion, Early Pop/Rock, Rock &amp; Roll</td>\n",
       "    </tr>\n",
       "    <tr>\n",
       "      <th>...</th>\n",
       "      <td>...</td>\n",
       "      <td>...</td>\n",
       "      <td>...</td>\n",
       "      <td>...</td>\n",
       "      <td>...</td>\n",
       "      <td>...</td>\n",
       "      <td>...</td>\n",
       "      <td>...</td>\n",
       "    </tr>\n",
       "    <tr>\n",
       "      <th>1071</th>\n",
       "      <td>Leave Me Be</td>\n",
       "      <td>I Love You</td>\n",
       "      <td>Varèse Sarabande / Varese</td>\n",
       "      <td>The Zombies</td>\n",
       "      <td>2:08</td>\n",
       "      <td>Chris White</td>\n",
       "      <td>Pop/Rock</td>\n",
       "      <td>British Invasion, Baroque Pop, AM Pop, Contemp...</td>\n",
       "    </tr>\n",
       "    <tr>\n",
       "      <th>1072</th>\n",
       "      <td>I Can't Make up My Mind</td>\n",
       "      <td>I Love You</td>\n",
       "      <td>Varèse Sarabande / Varese</td>\n",
       "      <td>The Zombies</td>\n",
       "      <td>2:33</td>\n",
       "      <td>Chris White</td>\n",
       "      <td>Pop/Rock</td>\n",
       "      <td>British Invasion, Baroque Pop, AM Pop, Contemp...</td>\n",
       "    </tr>\n",
       "    <tr>\n",
       "      <th>1073</th>\n",
       "      <td>Remember You</td>\n",
       "      <td>I Love You</td>\n",
       "      <td>Varèse Sarabande / Varese</td>\n",
       "      <td>The Zombies</td>\n",
       "      <td>1:58</td>\n",
       "      <td>Chris White</td>\n",
       "      <td>Pop/Rock</td>\n",
       "      <td>British Invasion, Baroque Pop, AM Pop, Contemp...</td>\n",
       "    </tr>\n",
       "    <tr>\n",
       "      <th>1074</th>\n",
       "      <td>Just Out of Reach</td>\n",
       "      <td>I Love You</td>\n",
       "      <td>Varèse Sarabande / Varese</td>\n",
       "      <td>The Zombies</td>\n",
       "      <td>2:08</td>\n",
       "      <td>Colin Blunstone</td>\n",
       "      <td>Pop/Rock</td>\n",
       "      <td>British Invasion, Baroque Pop, AM Pop, Contemp...</td>\n",
       "    </tr>\n",
       "    <tr>\n",
       "      <th>1075</th>\n",
       "      <td>She Does Everything for Me</td>\n",
       "      <td>I Love You</td>\n",
       "      <td>Varèse Sarabande / Varese</td>\n",
       "      <td>The Zombies</td>\n",
       "      <td>2:15</td>\n",
       "      <td>Rod Argent</td>\n",
       "      <td>Pop/Rock</td>\n",
       "      <td>British Invasion, Baroque Pop, AM Pop, Contemp...</td>\n",
       "    </tr>\n",
       "  </tbody>\n",
       "</table>\n",
       "<p>1076 rows × 8 columns</p>\n",
       "</div>"
      ]
     },
     "execution_count": 40,
     "metadata": {},
     "output_type": "execute_result"
    }
   ],
   "execution_count": 40
  },
  {
   "metadata": {},
   "cell_type": "markdown",
   "source": "### Iz kolone `Composer` ćemo izdvojiti prvog kompozitora i sačuvati ga u novu kolonu `First composer`",
   "id": "9a6e4f72d04de1"
  },
  {
   "metadata": {
    "ExecuteTime": {
     "end_time": "2025-01-23T22:35:41.356653100Z",
     "start_time": "2025-01-23T13:30:54.991100Z"
    }
   },
   "cell_type": "code",
   "source": [
    "def izdvoj_prvog_komp(comps):\n",
    "    kl =  comps.split('/')\n",
    "    return kl[0].strip()\n",
    "print(izdvoj_prvog_komp('Dave Clark / Mike Smith'))"
   ],
   "id": "f6aab8e4c3d04ca6",
   "outputs": [
    {
     "name": "stdout",
     "output_type": "stream",
     "text": [
      "Dave Clark\n"
     ]
    }
   ],
   "execution_count": 30
  },
  {
   "metadata": {},
   "cell_type": "markdown",
   "source": "### Sada ćemo ovu funkciju primeniti (funkcija `apply`) na svako polje iz kolone `Composer`, i na taj način ćemo dobiti željenu novu kolonu.",
   "id": "b6e51ab0fe255af9"
  },
  {
   "metadata": {
    "ExecuteTime": {
     "end_time": "2025-01-23T13:36:09.526326Z",
     "start_time": "2025-01-23T13:36:09.518846Z"
    }
   },
   "cell_type": "code",
   "source": [
    "dfr2['First composer'] = dfr2['Composer'].apply(izdvoj_prvog_komp)\n",
    "dfr2['First composer'].sample(10)"
   ],
   "id": "17912fdd90822b0b",
   "outputs": [
    {
     "data": {
      "text/plain": [
       "1071      Jim McCarty\n",
       "607      Allan Clarke\n",
       "844       Mick Jagger\n",
       "296           Donovan\n",
       "957     Jerry Ragovoy\n",
       "398          Fred Jay\n",
       "688        Ray Davies\n",
       "95        Fats Domino\n",
       "756          Phil May\n",
       "273           Ed Cobb\n",
       "Name: First composer, dtype: object"
      ]
     },
     "execution_count": 33,
     "metadata": {},
     "output_type": "execute_result"
    }
   ],
   "execution_count": 33
  },
  {
   "metadata": {},
   "cell_type": "markdown",
   "source": "### Kod kolone `Performer` postoji problem da se umetnuo znak za novi red (\\n) kod određenih izvođača. Rešićemo to preko funkcije strip (split u javi). ",
   "id": "cda77abb4a02c6ce"
  },
  {
   "metadata": {
    "ExecuteTime": {
     "end_time": "2025-01-23T23:23:22.178885Z",
     "start_time": "2025-01-23T23:23:22.172856Z"
    }
   },
   "cell_type": "code",
   "source": "dfr2['Performer'].str.contains('\\n').sum()",
   "id": "26a7745df065d49d",
   "outputs": [
    {
     "data": {
      "text/plain": [
       "np.int64(47)"
      ]
     },
     "execution_count": 41,
     "metadata": {},
     "output_type": "execute_result"
    }
   ],
   "execution_count": 41
  },
  {
   "metadata": {},
   "cell_type": "markdown",
   "source": "### Primećujemo da ima 47 zapisa koji sadrže znak ove za novi red. Ovaj put nećemo pisati funkciju za otklon tih znakova pre samog poziva apply funkcije, već ćemo to uraditi direktno u njoj preko lambda izraza.",
   "id": "c2e74229c72b0165"
  },
  {
   "metadata": {
    "ExecuteTime": {
     "end_time": "2025-01-23T23:23:24.893289Z",
     "start_time": "2025-01-23T23:23:24.887704Z"
    }
   },
   "cell_type": "code",
   "source": [
    "dfr2['Performer'] = dfr2['Performer'].apply(lambda izv: izv.replace('\\n', ''))\n",
    "\n",
    "dfr2['Performer'].str.contains('\\n').sum()"
   ],
   "id": "298053df64c79f26",
   "outputs": [
    {
     "data": {
      "text/plain": [
       "np.int64(0)"
      ]
     },
     "execution_count": 42,
     "metadata": {},
     "output_type": "execute_result"
    }
   ],
   "execution_count": 42
  },
  {
   "metadata": {},
   "cell_type": "markdown",
   "source": "### Nakon što smo rešili ovaj problem, utvrdili smo da je sem znakova za novi red, umetnuto pedesetak znakova za razmak u samom nazivu izvođača.",
   "id": "329deafef3ea8c1d"
  },
  {
   "metadata": {
    "ExecuteTime": {
     "end_time": "2025-01-23T23:25:10.017652Z",
     "start_time": "2025-01-23T23:25:10.012482Z"
    }
   },
   "cell_type": "code",
   "source": [
    "def brisi_razmake(izv):\n",
    "    reci = izv.split(' ')\n",
    "    words = [r for r in reci if len(r)>0]\n",
    "    return ' '.join(words)\n",
    "\n",
    "dfr2['Performer'] = dfr2['Performer'].apply(brisi_razmake)"
   ],
   "id": "96ded5056c5152b8",
   "outputs": [],
   "execution_count": 44
  },
  {
   "metadata": {},
   "cell_type": "markdown",
   "source": "### Nakon što smo rešili i ovaj problem, kolona Performers je ispravna, stoga možemo sačuvati promene u novi csv fajl.",
   "id": "c463f627677fedf5"
  },
  {
   "metadata": {
    "ExecuteTime": {
     "end_time": "2025-01-23T23:27:51.234718Z",
     "start_time": "2025-01-23T23:27:51.205871Z"
    }
   },
   "cell_type": "code",
   "source": "dfr2.to_csv('../data/brit_sredjen.csv', index=False)",
   "id": "4bcc403ccc471584",
   "outputs": [],
   "execution_count": 45
  }
 ],
 "metadata": {
  "kernelspec": {
   "display_name": "Python 3",
   "language": "python",
   "name": "python3"
  },
  "language_info": {
   "codemirror_mode": {
    "name": "ipython",
    "version": 2
   },
   "file_extension": ".py",
   "mimetype": "text/x-python",
   "name": "python",
   "nbconvert_exporter": "python",
   "pygments_lexer": "ipython2",
   "version": "2.7.6"
  }
 },
 "nbformat": 4,
 "nbformat_minor": 5
}
