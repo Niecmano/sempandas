{
 "cells": [
  {
   "metadata": {},
   "cell_type": "markdown",
   "source": [
    "# II deo\n",
    "### Pre same obrade podataka i donošenja zaključaka, neophodno je tzv. \"sirovi\" (raw) dataset da sredimo tako da bude pogodan za obradu. Jedna od glavnih aktivnosti u okviru tog sređivanja jeste rešavanje problema nedostajućih vrednosti."
   ],
   "id": "5abb40a3c6e8542d"
  },
  {
   "cell_type": "code",
   "id": "initial_id",
   "metadata": {
    "collapsed": true,
    "ExecuteTime": {
     "end_time": "2025-01-24T14:32:37.755322Z",
     "start_time": "2025-01-24T14:32:37.729151Z"
    }
   },
   "source": [
    "import pandas as pd\n",
    "from pandas import Series\n",
    "\n",
    "dfr = pd.read_csv('../data/brit.csv')\n",
    "dfr.sample(8)"
   ],
   "outputs": [
    {
     "data": {
      "text/plain": [
       "                             Title                        AlbumName  \\\n",
       "421                   Coquillages                    Love in a Mist   \n",
       "959   2000 Light Years from Home    Their Satanic Majesties Request   \n",
       "1224           How We Were Before                        I Love You   \n",
       "873                        Money                 The Rolling Stones   \n",
       "1083       Don't Forget About Me                  Where Am I Going?   \n",
       "412                       Lullaby                North Country Maid   \n",
       "1145            Heinz Baked Beans                  The Who Sell Out   \n",
       "1192                  Lost Woman                 Roger the Engineer   \n",
       "\n",
       "                                           Record Label           Performer  \\\n",
       "421                                               Decca  Marianne Faithfull   \n",
       "959                                       ABKCO Records  The Rolling Stones   \n",
       "1224                          Varèse Sarabande / Varese         The Zombies   \n",
       "873                                                 NaN  The Rolling Stones   \n",
       "1083  Def Jam / Island / Philips / Universal / Virgi...   Dusty Springfield   \n",
       "412                                           Universal  Marianne Faithfull   \n",
       "1145                                                MCA             The Who   \n",
       "1192                                              Edsel       The Yardbirds   \n",
       "\n",
       "      Track.number Song.duration  \\\n",
       "421             10          3:38   \n",
       "959              9          4:45   \n",
       "1224             2          2:05   \n",
       "873              2          2:31   \n",
       "1083            14          2:47   \n",
       "412             11          2:40   \n",
       "1145             2          1:00   \n",
       "1192             1          3:14   \n",
       "\n",
       "                                               Composer  Year  \\\n",
       "421                                 Michael John Taylor  1967   \n",
       "959                        Mick Jagger / Keith Richards  1967   \n",
       "1224                                    Colin Blunstone  1966   \n",
       "873                   Janie Bradford / Berry Gordy, Jr.  1964   \n",
       "1083                         Gerry Goffin / Carole King  1967   \n",
       "412                                            Jon Mark  1966   \n",
       "1145                                     John Entwistle  1967   \n",
       "1192  Jeff Beck / Chris Dreja / Jim McCarty / Keith ...  1966   \n",
       "\n",
       "                Genre                                             Styles  ...  \\\n",
       "421          Pop/Rock  British Invasion, Girl Groups, Folk-Rock, Baro...  ...   \n",
       "959          Pop/Rock  British Psychedelia, Contemporary Pop/Rock, Ps...  ...   \n",
       "1224         Pop/Rock  British Invasion, Baroque Pop, AM Pop, Contemp...  ...   \n",
       "873          Pop/Rock  Blues-Rock, British Invasion, Contemporary Pop...  ...   \n",
       "1083    Pop/Rock, R&B  Blue-Eyed Soul, British Invasion, Pop-Soul, So...  ...   \n",
       "412          Pop/Rock           British Invasion, Folk-Rock, Baroque Pop  ...   \n",
       "1145         Pop/Rock  Album Rock, British Invasion, British Psychede...  ...   \n",
       "1192  Pop/Rock, Blues  Blues-Rock, British Blues, British Invasion, B...  ...   \n",
       "\n",
       "      speechiness    tempo  valence  duration_ms  popularity  \\\n",
       "421        0.0281   84.755    0.337     218160.0         5.0   \n",
       "959        0.0490  122.328    0.278     285053.0         0.0   \n",
       "1224       0.0310  109.043    0.631     125707.0        36.0   \n",
       "873        0.0424  137.319    0.880     151320.0        18.0   \n",
       "1083       0.0309  128.049    0.533     167733.0        14.0   \n",
       "412        0.0413  121.747    0.206     159813.0         0.0   \n",
       "1145       0.2980  121.300    0.670      60827.0         0.0   \n",
       "1192          NaN      NaN      NaN          NaN         NaN   \n",
       "\n",
       "      shake.the.audience  romantic   obscene  family.spiritual   sadness  \n",
       "421             0.002632  0.111304  0.002632          0.002632  0.002632  \n",
       "959             0.002506  0.316350  0.002506          0.002506  0.080953  \n",
       "1224            0.110119  0.001144  0.337479          0.272042  0.001074  \n",
       "873             0.002552  0.001698  0.002506          0.002506  0.001284  \n",
       "1083            0.031503  0.159885  0.354789          0.001754  0.001012  \n",
       "412             0.019388  0.000907  0.000907          0.076870  0.000907  \n",
       "1145            0.006579  0.001815  0.443204          0.001698  0.000642  \n",
       "1192            0.000892  0.001462  0.565350          0.001284  0.000684  \n",
       "\n",
       "[8 rows x 26 columns]"
      ],
      "text/html": [
       "<div>\n",
       "<style scoped>\n",
       "    .dataframe tbody tr th:only-of-type {\n",
       "        vertical-align: middle;\n",
       "    }\n",
       "\n",
       "    .dataframe tbody tr th {\n",
       "        vertical-align: top;\n",
       "    }\n",
       "\n",
       "    .dataframe thead th {\n",
       "        text-align: right;\n",
       "    }\n",
       "</style>\n",
       "<table border=\"1\" class=\"dataframe\">\n",
       "  <thead>\n",
       "    <tr style=\"text-align: right;\">\n",
       "      <th></th>\n",
       "      <th>Title</th>\n",
       "      <th>AlbumName</th>\n",
       "      <th>Record Label</th>\n",
       "      <th>Performer</th>\n",
       "      <th>Track.number</th>\n",
       "      <th>Song.duration</th>\n",
       "      <th>Composer</th>\n",
       "      <th>Year</th>\n",
       "      <th>Genre</th>\n",
       "      <th>Styles</th>\n",
       "      <th>...</th>\n",
       "      <th>speechiness</th>\n",
       "      <th>tempo</th>\n",
       "      <th>valence</th>\n",
       "      <th>duration_ms</th>\n",
       "      <th>popularity</th>\n",
       "      <th>shake.the.audience</th>\n",
       "      <th>romantic</th>\n",
       "      <th>obscene</th>\n",
       "      <th>family.spiritual</th>\n",
       "      <th>sadness</th>\n",
       "    </tr>\n",
       "  </thead>\n",
       "  <tbody>\n",
       "    <tr>\n",
       "      <th>421</th>\n",
       "      <td>Coquillages</td>\n",
       "      <td>Love in a Mist</td>\n",
       "      <td>Decca</td>\n",
       "      <td>Marianne Faithfull</td>\n",
       "      <td>10</td>\n",
       "      <td>3:38</td>\n",
       "      <td>Michael John Taylor</td>\n",
       "      <td>1967</td>\n",
       "      <td>Pop/Rock</td>\n",
       "      <td>British Invasion, Girl Groups, Folk-Rock, Baro...</td>\n",
       "      <td>...</td>\n",
       "      <td>0.0281</td>\n",
       "      <td>84.755</td>\n",
       "      <td>0.337</td>\n",
       "      <td>218160.0</td>\n",
       "      <td>5.0</td>\n",
       "      <td>0.002632</td>\n",
       "      <td>0.111304</td>\n",
       "      <td>0.002632</td>\n",
       "      <td>0.002632</td>\n",
       "      <td>0.002632</td>\n",
       "    </tr>\n",
       "    <tr>\n",
       "      <th>959</th>\n",
       "      <td>2000 Light Years from Home</td>\n",
       "      <td>Their Satanic Majesties Request</td>\n",
       "      <td>ABKCO Records</td>\n",
       "      <td>The Rolling Stones</td>\n",
       "      <td>9</td>\n",
       "      <td>4:45</td>\n",
       "      <td>Mick Jagger / Keith Richards</td>\n",
       "      <td>1967</td>\n",
       "      <td>Pop/Rock</td>\n",
       "      <td>British Psychedelia, Contemporary Pop/Rock, Ps...</td>\n",
       "      <td>...</td>\n",
       "      <td>0.0490</td>\n",
       "      <td>122.328</td>\n",
       "      <td>0.278</td>\n",
       "      <td>285053.0</td>\n",
       "      <td>0.0</td>\n",
       "      <td>0.002506</td>\n",
       "      <td>0.316350</td>\n",
       "      <td>0.002506</td>\n",
       "      <td>0.002506</td>\n",
       "      <td>0.080953</td>\n",
       "    </tr>\n",
       "    <tr>\n",
       "      <th>1224</th>\n",
       "      <td>How We Were Before</td>\n",
       "      <td>I Love You</td>\n",
       "      <td>Varèse Sarabande / Varese</td>\n",
       "      <td>The Zombies</td>\n",
       "      <td>2</td>\n",
       "      <td>2:05</td>\n",
       "      <td>Colin Blunstone</td>\n",
       "      <td>1966</td>\n",
       "      <td>Pop/Rock</td>\n",
       "      <td>British Invasion, Baroque Pop, AM Pop, Contemp...</td>\n",
       "      <td>...</td>\n",
       "      <td>0.0310</td>\n",
       "      <td>109.043</td>\n",
       "      <td>0.631</td>\n",
       "      <td>125707.0</td>\n",
       "      <td>36.0</td>\n",
       "      <td>0.110119</td>\n",
       "      <td>0.001144</td>\n",
       "      <td>0.337479</td>\n",
       "      <td>0.272042</td>\n",
       "      <td>0.001074</td>\n",
       "    </tr>\n",
       "    <tr>\n",
       "      <th>873</th>\n",
       "      <td>Money</td>\n",
       "      <td>The Rolling Stones</td>\n",
       "      <td>NaN</td>\n",
       "      <td>The Rolling Stones</td>\n",
       "      <td>2</td>\n",
       "      <td>2:31</td>\n",
       "      <td>Janie Bradford / Berry Gordy, Jr.</td>\n",
       "      <td>1964</td>\n",
       "      <td>Pop/Rock</td>\n",
       "      <td>Blues-Rock, British Invasion, Contemporary Pop...</td>\n",
       "      <td>...</td>\n",
       "      <td>0.0424</td>\n",
       "      <td>137.319</td>\n",
       "      <td>0.880</td>\n",
       "      <td>151320.0</td>\n",
       "      <td>18.0</td>\n",
       "      <td>0.002552</td>\n",
       "      <td>0.001698</td>\n",
       "      <td>0.002506</td>\n",
       "      <td>0.002506</td>\n",
       "      <td>0.001284</td>\n",
       "    </tr>\n",
       "    <tr>\n",
       "      <th>1083</th>\n",
       "      <td>Don't Forget About Me</td>\n",
       "      <td>Where Am I Going?</td>\n",
       "      <td>Def Jam / Island / Philips / Universal / Virgi...</td>\n",
       "      <td>Dusty Springfield</td>\n",
       "      <td>14</td>\n",
       "      <td>2:47</td>\n",
       "      <td>Gerry Goffin / Carole King</td>\n",
       "      <td>1967</td>\n",
       "      <td>Pop/Rock, R&amp;B</td>\n",
       "      <td>Blue-Eyed Soul, British Invasion, Pop-Soul, So...</td>\n",
       "      <td>...</td>\n",
       "      <td>0.0309</td>\n",
       "      <td>128.049</td>\n",
       "      <td>0.533</td>\n",
       "      <td>167733.0</td>\n",
       "      <td>14.0</td>\n",
       "      <td>0.031503</td>\n",
       "      <td>0.159885</td>\n",
       "      <td>0.354789</td>\n",
       "      <td>0.001754</td>\n",
       "      <td>0.001012</td>\n",
       "    </tr>\n",
       "    <tr>\n",
       "      <th>412</th>\n",
       "      <td>Lullaby</td>\n",
       "      <td>North Country Maid</td>\n",
       "      <td>Universal</td>\n",
       "      <td>Marianne Faithfull</td>\n",
       "      <td>11</td>\n",
       "      <td>2:40</td>\n",
       "      <td>Jon Mark</td>\n",
       "      <td>1966</td>\n",
       "      <td>Pop/Rock</td>\n",
       "      <td>British Invasion, Folk-Rock, Baroque Pop</td>\n",
       "      <td>...</td>\n",
       "      <td>0.0413</td>\n",
       "      <td>121.747</td>\n",
       "      <td>0.206</td>\n",
       "      <td>159813.0</td>\n",
       "      <td>0.0</td>\n",
       "      <td>0.019388</td>\n",
       "      <td>0.000907</td>\n",
       "      <td>0.000907</td>\n",
       "      <td>0.076870</td>\n",
       "      <td>0.000907</td>\n",
       "    </tr>\n",
       "    <tr>\n",
       "      <th>1145</th>\n",
       "      <td>Heinz Baked Beans</td>\n",
       "      <td>The Who Sell Out</td>\n",
       "      <td>MCA</td>\n",
       "      <td>The Who</td>\n",
       "      <td>2</td>\n",
       "      <td>1:00</td>\n",
       "      <td>John Entwistle</td>\n",
       "      <td>1967</td>\n",
       "      <td>Pop/Rock</td>\n",
       "      <td>Album Rock, British Invasion, British Psychede...</td>\n",
       "      <td>...</td>\n",
       "      <td>0.2980</td>\n",
       "      <td>121.300</td>\n",
       "      <td>0.670</td>\n",
       "      <td>60827.0</td>\n",
       "      <td>0.0</td>\n",
       "      <td>0.006579</td>\n",
       "      <td>0.001815</td>\n",
       "      <td>0.443204</td>\n",
       "      <td>0.001698</td>\n",
       "      <td>0.000642</td>\n",
       "    </tr>\n",
       "    <tr>\n",
       "      <th>1192</th>\n",
       "      <td>Lost Woman</td>\n",
       "      <td>Roger the Engineer</td>\n",
       "      <td>Edsel</td>\n",
       "      <td>The Yardbirds</td>\n",
       "      <td>1</td>\n",
       "      <td>3:14</td>\n",
       "      <td>Jeff Beck / Chris Dreja / Jim McCarty / Keith ...</td>\n",
       "      <td>1966</td>\n",
       "      <td>Pop/Rock, Blues</td>\n",
       "      <td>Blues-Rock, British Blues, British Invasion, B...</td>\n",
       "      <td>...</td>\n",
       "      <td>NaN</td>\n",
       "      <td>NaN</td>\n",
       "      <td>NaN</td>\n",
       "      <td>NaN</td>\n",
       "      <td>NaN</td>\n",
       "      <td>0.000892</td>\n",
       "      <td>0.001462</td>\n",
       "      <td>0.565350</td>\n",
       "      <td>0.001284</td>\n",
       "      <td>0.000684</td>\n",
       "    </tr>\n",
       "  </tbody>\n",
       "</table>\n",
       "<p>8 rows × 26 columns</p>\n",
       "</div>"
      ]
     },
     "execution_count": 15,
     "metadata": {},
     "output_type": "execute_result"
    }
   ],
   "execution_count": 15
  },
  {
   "metadata": {},
   "cell_type": "markdown",
   "source": "### Najpre ćemo utvrditi koliko nedostajućih (NaN/None) vrednosti ima u svakoj koloni. Metoda isna() preslikava svako polje datafrejma u True/False (ako je polje NaN dobiće vrednost False).",
   "id": "ddff078ea9fb624d"
  },
  {
   "metadata": {
    "ExecuteTime": {
     "end_time": "2025-01-24T14:32:11.195406Z",
     "start_time": "2025-01-24T14:32:11.188330Z"
    }
   },
   "cell_type": "code",
   "source": "dfr.isna().sum().sort_values(ascending=False)",
   "id": "272e4e4c3a814c9e",
   "outputs": [
    {
     "data": {
      "text/plain": [
       "duration_ms           127\n",
       "valence               127\n",
       "tempo                 127\n",
       "speechiness           127\n",
       "loudness              127\n",
       "liveness              127\n",
       "instrumentalness      127\n",
       "energy                127\n",
       "danceability          127\n",
       "acousticness          127\n",
       "popularity            127\n",
       "Song.duration          43\n",
       "Record Label            3\n",
       "Composer                0\n",
       "Track.number            0\n",
       "Performer               0\n",
       "Title                   0\n",
       "AlbumName               0\n",
       "Styles                  0\n",
       "Genre                   0\n",
       "Year                    0\n",
       "shake.the.audience      0\n",
       "romantic                0\n",
       "obscene                 0\n",
       "family.spiritual        0\n",
       "sadness                 0\n",
       "dtype: int64"
      ]
     },
     "execution_count": 3,
     "metadata": {},
     "output_type": "execute_result"
    }
   ],
   "execution_count": 3
  },
  {
   "metadata": {},
   "cell_type": "markdown",
   "source": [
    "## 1. varijanta: popunjavanje nedostajućih na osnovu poznatih vrednosti\n",
    " ### Nedostajućim vrednostima kolone `loudness` biće dodeljena srednja vrednost te kolone. Nakon popunjavanja nedostajucih vrednosti korišćenjem metode `fillna`, metoda `value_counts` nam vraća broj pojavljivanja svake jedinstvene vrednosti. Srednja vrednost se pojavljuje najčešće, i to kod svih 127 prethodno nedostajućih polja."
   ],
   "id": "39abae25a1df023"
  },
  {
   "metadata": {
    "ExecuteTime": {
     "end_time": "2025-01-24T14:32:11.255661Z",
     "start_time": "2025-01-24T14:32:11.245304Z"
    }
   },
   "cell_type": "code",
   "source": [
    "dfr['loudness'] = dfr['loudness'].fillna(value=dfr['loudness'].mean())\n",
    "dfr['loudness'].value_counts()"
   ],
   "id": "42fc1e9105486de5",
   "outputs": [
    {
     "data": {
      "text/plain": [
       "loudness\n",
       "-9.566823     127\n",
       "-9.197000       3\n",
       "-8.887000       3\n",
       "-9.436000       3\n",
       "-10.086000      3\n",
       "             ... \n",
       "-9.310000       1\n",
       "-9.562000       1\n",
       "-9.299000       1\n",
       "-11.992000      1\n",
       "-9.279000       1\n",
       "Name: count, Length: 1028, dtype: int64"
      ]
     },
     "execution_count": 4,
     "metadata": {},
     "output_type": "execute_result"
    }
   ],
   "execution_count": 4
  },
  {
   "metadata": {},
   "cell_type": "markdown",
   "source": [
    "## 2. varijanta: uklanjanje redova koji sadrže nedostajuće vrednosti\n",
    " ### Uklonićemo sve redove kod kojih kolonama energy i tempo nedostaje vrednost, koristeći metodu `dropna`. Kod `subset` parametra navode se kolone za koje se nedostajuće vrednosti razmatraju, dok parametar `how` uzima vrednost `all` (red se briše samo ako su sve vrednosti kolona iz subseta nedostajuće) ili `any` (red se briše ako nedostaje bilo koja vrednost iz subseta). Kako bismo efekat ove naredbe preneli na naš datafrejm, parametar `inplace` postavljamo na True."
   ],
   "id": "ed852e276f7f3964"
  },
  {
   "metadata": {
    "ExecuteTime": {
     "end_time": "2025-01-24T14:32:11.404407Z",
     "start_time": "2025-01-24T14:32:11.396388Z"
    }
   },
   "cell_type": "code",
   "source": [
    "dfr.dropna(subset=['energy','tempo'],how='all', inplace=True)\n",
    "dfr.isna().sum().sort_values(ascending=False)"
   ],
   "id": "ebee01677ea1ddd2",
   "outputs": [
    {
     "data": {
      "text/plain": [
       "Song.duration         32\n",
       "Record Label           3\n",
       "AlbumName              0\n",
       "Title                  0\n",
       "Performer              0\n",
       "Track.number           0\n",
       "Composer               0\n",
       "Year                   0\n",
       "Genre                  0\n",
       "Styles                 0\n",
       "acousticness           0\n",
       "danceability           0\n",
       "energy                 0\n",
       "instrumentalness       0\n",
       "liveness               0\n",
       "loudness               0\n",
       "speechiness            0\n",
       "tempo                  0\n",
       "valence                0\n",
       "duration_ms            0\n",
       "popularity             0\n",
       "shake.the.audience     0\n",
       "romantic               0\n",
       "obscene                0\n",
       "family.spiritual       0\n",
       "sadness                0\n",
       "dtype: int64"
      ]
     },
     "execution_count": 5,
     "metadata": {},
     "output_type": "execute_result"
    }
   ],
   "execution_count": 5
  },
  {
   "metadata": {},
   "cell_type": "markdown",
   "source": "### Ovakav način regulisanja nedostajućih vrednosti pogodniji je za nenumeričke kolone, jer kod njih nije moguće dobiti srednju vrednost kolone. Kolona `Record Label` je kategorička, stoga je kod nje najbolje primeniti metodu `dropna`.",
   "id": "1423b5e696c324fd"
  },
  {
   "metadata": {
    "ExecuteTime": {
     "end_time": "2025-01-24T14:32:11.688305Z",
     "start_time": "2025-01-24T14:32:11.682865Z"
    }
   },
   "cell_type": "code",
   "source": "dfr.dropna(subset=['Record Label', 'Song.duration'], inplace=True)",
   "id": "e2e7a7c531983f5f",
   "outputs": [],
   "execution_count": 6
  },
  {
   "metadata": {},
   "cell_type": "markdown",
   "source": "### Budući da smo otklonili sve nedostajuće vrednosti, izmenjeni dataset ćemo sačuvati u novi csv fajl.",
   "id": "59f76956686577cd"
  },
  {
   "metadata": {
    "ExecuteTime": {
     "end_time": "2025-01-24T14:32:11.761103Z",
     "start_time": "2025-01-24T14:32:11.731317Z"
    }
   },
   "cell_type": "code",
   "source": "dfr.to_csv('../data/brit_bez_NaN.csv', index=False)",
   "id": "3cb6044b27857083",
   "outputs": [],
   "execution_count": 7
  },
  {
   "metadata": {},
   "cell_type": "markdown",
   "source": "### Sada ćemo učitati fajl koji smo sačuvali kako bismo nastavili njegovo sređivanje. Izvršićemo sređivanje tekstualnih kolona. U datafrejmu ove kolone su tipa `object`.",
   "id": "f50475616e92dda2"
  },
  {
   "metadata": {
    "ExecuteTime": {
     "end_time": "2025-01-24T14:32:11.950101Z",
     "start_time": "2025-01-24T14:32:11.908909Z"
    }
   },
   "cell_type": "code",
   "source": [
    "dfr2 = pd.read_csv('../data/brit_bez_NaN.csv')\n",
    "dfr2.select_dtypes(include='object').sample(8)"
   ],
   "id": "4d2a92b8c145f4c7",
   "outputs": [
    {
     "data": {
      "text/plain": [
       "                                 Title               AlbumName  \\\n",
       "981                  Boris the Spider              A Quick One   \n",
       "791                        Good Times         Out of Our Heads   \n",
       "735  There Will Never Be Another Day                  Emotions   \n",
       "304       Hey Gyp (Dig the Slowness)                 Fairytale   \n",
       "53                It Don't Feel Good              Try Too Hard   \n",
       "307                Three King Fishers   Sunshine Superman [US]   \n",
       "761                      Empty Heart                    12 X 5   \n",
       "17            Any Time You Want Love             American Tour   \n",
       "\n",
       "                                          Record Label            Performer  \\\n",
       "981                                                MCA              The Who   \n",
       "791                                      ABKCO Records   The Rolling Stones   \n",
       "735                                  JVC Compact Discs    The Pretty Things   \n",
       "304  Castle Music Ltd. / Fontana / Sanctuary / Sanc...              Donovan   \n",
       "53                                                 BMG  The Dave Clark Five   \n",
       "307                                      Legacy / Epic              Donovan   \n",
       "761                                      ABKCO Records   The Rolling Stones   \n",
       "17                                                 BMG  The Dave Clark Five   \n",
       "\n",
       "    Song.duration                                     Composer  \\\n",
       "981          2:26                               John Entwistle   \n",
       "791          1:59                                    Sam Cooke   \n",
       "735          2:22  Phil May / Dick Taylor / Wally Allen Waller   \n",
       "304          3:09                     Donovan / Donovan Leitch   \n",
       "53           1:41                    Dave Clark / Denis Payton   \n",
       "307          3:16                                      Donovan   \n",
       "761          2:38                 Mick Jagger / Keith Richards   \n",
       "17           2:12                  Dave Clark / Lenny Davidson   \n",
       "\n",
       "              Genre                                             Styles  \n",
       "981        Pop/Rock  Album Rock, British Invasion, Contemporary Pop...  \n",
       "791        Pop/Rock  Blues-Rock, British Blues, British Invasion, R...  \n",
       "735        Pop/Rock  British Invasion, Prog-Rock, Psychedelic/Garag...  \n",
       "304            Folk  British Folk, British Invasion, Folk Revival, ...  \n",
       "53         Pop/Rock                      British Invasion, Rock & Roll  \n",
       "307  Pop/Rock, Folk  British Folk, British Invasion, British Psyche...  \n",
       "761        Pop/Rock  Blues-Rock, British Blues, British Invasion, C...  \n",
       "17         Pop/Rock      British Invasion, Early Pop/Rock, Rock & Roll  "
      ],
      "text/html": [
       "<div>\n",
       "<style scoped>\n",
       "    .dataframe tbody tr th:only-of-type {\n",
       "        vertical-align: middle;\n",
       "    }\n",
       "\n",
       "    .dataframe tbody tr th {\n",
       "        vertical-align: top;\n",
       "    }\n",
       "\n",
       "    .dataframe thead th {\n",
       "        text-align: right;\n",
       "    }\n",
       "</style>\n",
       "<table border=\"1\" class=\"dataframe\">\n",
       "  <thead>\n",
       "    <tr style=\"text-align: right;\">\n",
       "      <th></th>\n",
       "      <th>Title</th>\n",
       "      <th>AlbumName</th>\n",
       "      <th>Record Label</th>\n",
       "      <th>Performer</th>\n",
       "      <th>Song.duration</th>\n",
       "      <th>Composer</th>\n",
       "      <th>Genre</th>\n",
       "      <th>Styles</th>\n",
       "    </tr>\n",
       "  </thead>\n",
       "  <tbody>\n",
       "    <tr>\n",
       "      <th>981</th>\n",
       "      <td>Boris the Spider</td>\n",
       "      <td>A Quick One</td>\n",
       "      <td>MCA</td>\n",
       "      <td>The Who</td>\n",
       "      <td>2:26</td>\n",
       "      <td>John Entwistle</td>\n",
       "      <td>Pop/Rock</td>\n",
       "      <td>Album Rock, British Invasion, Contemporary Pop...</td>\n",
       "    </tr>\n",
       "    <tr>\n",
       "      <th>791</th>\n",
       "      <td>Good Times</td>\n",
       "      <td>Out of Our Heads</td>\n",
       "      <td>ABKCO Records</td>\n",
       "      <td>The Rolling Stones</td>\n",
       "      <td>1:59</td>\n",
       "      <td>Sam Cooke</td>\n",
       "      <td>Pop/Rock</td>\n",
       "      <td>Blues-Rock, British Blues, British Invasion, R...</td>\n",
       "    </tr>\n",
       "    <tr>\n",
       "      <th>735</th>\n",
       "      <td>There Will Never Be Another Day</td>\n",
       "      <td>Emotions</td>\n",
       "      <td>JVC Compact Discs</td>\n",
       "      <td>The Pretty Things</td>\n",
       "      <td>2:22</td>\n",
       "      <td>Phil May / Dick Taylor / Wally Allen Waller</td>\n",
       "      <td>Pop/Rock</td>\n",
       "      <td>British Invasion, Prog-Rock, Psychedelic/Garag...</td>\n",
       "    </tr>\n",
       "    <tr>\n",
       "      <th>304</th>\n",
       "      <td>Hey Gyp (Dig the Slowness)</td>\n",
       "      <td>Fairytale</td>\n",
       "      <td>Castle Music Ltd. / Fontana / Sanctuary / Sanc...</td>\n",
       "      <td>Donovan</td>\n",
       "      <td>3:09</td>\n",
       "      <td>Donovan / Donovan Leitch</td>\n",
       "      <td>Folk</td>\n",
       "      <td>British Folk, British Invasion, Folk Revival, ...</td>\n",
       "    </tr>\n",
       "    <tr>\n",
       "      <th>53</th>\n",
       "      <td>It Don't Feel Good</td>\n",
       "      <td>Try Too Hard</td>\n",
       "      <td>BMG</td>\n",
       "      <td>The Dave Clark Five</td>\n",
       "      <td>1:41</td>\n",
       "      <td>Dave Clark / Denis Payton</td>\n",
       "      <td>Pop/Rock</td>\n",
       "      <td>British Invasion, Rock &amp; Roll</td>\n",
       "    </tr>\n",
       "    <tr>\n",
       "      <th>307</th>\n",
       "      <td>Three King Fishers</td>\n",
       "      <td>Sunshine Superman [US]</td>\n",
       "      <td>Legacy / Epic</td>\n",
       "      <td>Donovan</td>\n",
       "      <td>3:16</td>\n",
       "      <td>Donovan</td>\n",
       "      <td>Pop/Rock, Folk</td>\n",
       "      <td>British Folk, British Invasion, British Psyche...</td>\n",
       "    </tr>\n",
       "    <tr>\n",
       "      <th>761</th>\n",
       "      <td>Empty Heart</td>\n",
       "      <td>12 X 5</td>\n",
       "      <td>ABKCO Records</td>\n",
       "      <td>The Rolling Stones</td>\n",
       "      <td>2:38</td>\n",
       "      <td>Mick Jagger / Keith Richards</td>\n",
       "      <td>Pop/Rock</td>\n",
       "      <td>Blues-Rock, British Blues, British Invasion, C...</td>\n",
       "    </tr>\n",
       "    <tr>\n",
       "      <th>17</th>\n",
       "      <td>Any Time You Want Love</td>\n",
       "      <td>American Tour</td>\n",
       "      <td>BMG</td>\n",
       "      <td>The Dave Clark Five</td>\n",
       "      <td>2:12</td>\n",
       "      <td>Dave Clark / Lenny Davidson</td>\n",
       "      <td>Pop/Rock</td>\n",
       "      <td>British Invasion, Early Pop/Rock, Rock &amp; Roll</td>\n",
       "    </tr>\n",
       "  </tbody>\n",
       "</table>\n",
       "</div>"
      ]
     },
     "execution_count": 8,
     "metadata": {},
     "output_type": "execute_result"
    }
   ],
   "execution_count": 8
  },
  {
   "metadata": {},
   "cell_type": "markdown",
   "source": "### Iz kolone `Composer` ćemo izdvojiti prvog kompozitora i sačuvati ga u novu kolonu `First composer`",
   "id": "9a6e4f72d04de1"
  },
  {
   "metadata": {
    "ExecuteTime": {
     "end_time": "2025-01-24T14:32:12.005997Z",
     "start_time": "2025-01-24T14:32:12.001983Z"
    }
   },
   "cell_type": "code",
   "source": [
    "def izdvoj_prvog_komp(comps):\n",
    "    kl =  comps.split('/')\n",
    "    return kl[0].strip()\n",
    "print(izdvoj_prvog_komp('Dave Clark / Mike Smith'))"
   ],
   "id": "f6aab8e4c3d04ca6",
   "outputs": [
    {
     "name": "stdout",
     "output_type": "stream",
     "text": [
      "Dave Clark\n"
     ]
    }
   ],
   "execution_count": 9
  },
  {
   "metadata": {},
   "cell_type": "markdown",
   "source": "### Sada ćemo ovu funkciju primeniti (funkcija `apply`) na svako polje iz kolone `Composer`, i na taj način ćemo dobiti željenu novu kolonu.",
   "id": "b6e51ab0fe255af9"
  },
  {
   "metadata": {
    "ExecuteTime": {
     "end_time": "2025-01-24T14:32:12.115076Z",
     "start_time": "2025-01-24T14:32:12.108030Z"
    }
   },
   "cell_type": "code",
   "source": [
    "dfr2['First composer'] = dfr2['Composer'].apply(izdvoj_prvog_komp)\n",
    "dfr2['First composer'].sample(10)"
   ],
   "id": "17912fdd90822b0b",
   "outputs": [
    {
     "data": {
      "text/plain": [
       "344            Donovan\n",
       "411      Steve Cropper\n",
       "920    Tom Springfield\n",
       "820        Mick Jagger\n",
       "858        Frank Allen\n",
       "143        John Lennon\n",
       "276       Georges Aber\n",
       "989     Pete Townshend\n",
       "106      James Bracken\n",
       "532           Pat Best\n",
       "Name: First composer, dtype: object"
      ]
     },
     "execution_count": 10,
     "metadata": {},
     "output_type": "execute_result"
    }
   ],
   "execution_count": 10
  },
  {
   "metadata": {},
   "cell_type": "markdown",
   "source": "### Kod kolone `Performer` postoji problem da se umetnuo znak za novi red (\\n) kod određenih izvođača. Rešićemo to preko funkcije strip (split u javi). ",
   "id": "cda77abb4a02c6ce"
  },
  {
   "metadata": {
    "ExecuteTime": {
     "end_time": "2025-01-24T14:32:12.238334Z",
     "start_time": "2025-01-24T14:32:12.231333Z"
    }
   },
   "cell_type": "code",
   "source": "dfr2['Performer'].str.contains('\\n').sum()",
   "id": "26a7745df065d49d",
   "outputs": [
    {
     "data": {
      "text/plain": [
       "np.int64(47)"
      ]
     },
     "execution_count": 11,
     "metadata": {},
     "output_type": "execute_result"
    }
   ],
   "execution_count": 11
  },
  {
   "metadata": {},
   "cell_type": "markdown",
   "source": "### Primećujemo da ima 47 zapisa koji sadrže znak ove za novi red. Ovaj put nećemo pisati funkciju za otklon tih znakova pre samog poziva apply funkcije, već ćemo to uraditi direktno u njoj preko lambda izraza.",
   "id": "c2e74229c72b0165"
  },
  {
   "metadata": {
    "ExecuteTime": {
     "end_time": "2025-01-24T14:32:12.318462Z",
     "start_time": "2025-01-24T14:32:12.311460Z"
    }
   },
   "cell_type": "code",
   "source": [
    "dfr2['Performer'] = dfr2['Performer'].apply(lambda izv: izv.replace('\\n', ''))\n",
    "\n",
    "dfr2['Performer'].str.contains('\\n').sum()"
   ],
   "id": "298053df64c79f26",
   "outputs": [
    {
     "data": {
      "text/plain": [
       "np.int64(0)"
      ]
     },
     "execution_count": 12,
     "metadata": {},
     "output_type": "execute_result"
    }
   ],
   "execution_count": 12
  },
  {
   "metadata": {},
   "cell_type": "markdown",
   "source": "### Nakon što smo rešili ovaj problem, utvrdili smo da je sem znakova za novi red, umetnuto pedesetak znakova za razmak u samom nazivu izvođača.",
   "id": "329deafef3ea8c1d"
  },
  {
   "metadata": {
    "ExecuteTime": {
     "end_time": "2025-01-24T14:32:12.417393Z",
     "start_time": "2025-01-24T14:32:12.411569Z"
    }
   },
   "cell_type": "code",
   "source": [
    "def brisi_razmake(izv):\n",
    "    reci = izv.split(' ')\n",
    "    words = [r for r in reci if len(r)>0]\n",
    "    return ' '.join(words)\n",
    "\n",
    "dfr2['Performer'] = dfr2['Performer'].apply(brisi_razmake)"
   ],
   "id": "96ded5056c5152b8",
   "outputs": [],
   "execution_count": 13
  },
  {
   "metadata": {},
   "cell_type": "markdown",
   "source": "### Nakon što smo rešili i ovaj problem, kolona Performers je ispravna, stoga možemo sačuvati promene u novi csv fajl.",
   "id": "c463f627677fedf5"
  },
  {
   "metadata": {
    "ExecuteTime": {
     "end_time": "2025-01-24T14:32:12.503812Z",
     "start_time": "2025-01-24T14:32:12.470408Z"
    }
   },
   "cell_type": "code",
   "source": "dfr2.to_csv('../data/brit_sredjen.csv', index=False)",
   "id": "4bcc403ccc471584",
   "outputs": [],
   "execution_count": 14
  }
 ],
 "metadata": {
  "kernelspec": {
   "display_name": "Python 3",
   "language": "python",
   "name": "python3"
  },
  "language_info": {
   "codemirror_mode": {
    "name": "ipython",
    "version": 2
   },
   "file_extension": ".py",
   "mimetype": "text/x-python",
   "name": "python",
   "nbconvert_exporter": "python",
   "pygments_lexer": "ipython2",
   "version": "2.7.6"
  }
 },
 "nbformat": 4,
 "nbformat_minor": 5
}
