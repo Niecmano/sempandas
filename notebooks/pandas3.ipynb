{
 "cells": [
  {
   "metadata": {},
   "cell_type": "markdown",
   "source": [
    "# III deo\n",
    "#### Rad sa kategorijskim podacima u pandasu može značajno optimizovati performanse i uštedeti memoriju, posebno kada se radi sa kolonama koje imaju mali broj unikatnih vrednosti u poređenju sa ukupnim brojem redova. Pandas omogućava rad sa kategorijskim podacima pomoću tipa category."
   ],
   "id": "f320c059c5e8bd9a"
  },
  {
   "cell_type": "code",
   "id": "initial_id",
   "metadata": {
    "collapsed": true,
    "ExecuteTime": {
     "end_time": "2025-01-26T12:27:00.212862Z",
     "start_time": "2025-01-26T12:27:00.037817Z"
    }
   },
   "source": [
    "import pandas as pd\n",
    "nzl = pd.read_csv('../data/nzbiz.csv')\n",
    "nzl.sample(5)"
   ],
   "outputs": [
    {
     "data": {
      "text/plain": [
       "       Year                               Industry_name_NZSIOC  \\\n",
       "343    2023                               Forestry and Logging   \n",
       "14272  2020                            Fishing and Aquaculture   \n",
       "50545  2013                  Health Care and Social Assistance   \n",
       "9719   2021                                             Mining   \n",
       "42472  2014  Pulp, Paper and Converted Paper Product Manufa...   \n",
       "\n",
       "                    Units             Variable_name      Variable_category  \\\n",
       "343    Dollars (millions)  Redundancy and severance  Financial performance   \n",
       "14272  Dollars (millions)      Non-operating income  Financial performance   \n",
       "50545  Dollars (millions)         Total expenditure  Financial performance   \n",
       "9719   Dollars (millions)       Current liabilities     Financial position   \n",
       "42472  Dollars (millions)  Redundancy and severance  Financial performance   \n",
       "\n",
       "        Value  \n",
       "343         0  \n",
       "14272      19  \n",
       "50545  12,061  \n",
       "9719     3235  \n",
       "42472       C  "
      ],
      "text/html": [
       "<div>\n",
       "<style scoped>\n",
       "    .dataframe tbody tr th:only-of-type {\n",
       "        vertical-align: middle;\n",
       "    }\n",
       "\n",
       "    .dataframe tbody tr th {\n",
       "        vertical-align: top;\n",
       "    }\n",
       "\n",
       "    .dataframe thead th {\n",
       "        text-align: right;\n",
       "    }\n",
       "</style>\n",
       "<table border=\"1\" class=\"dataframe\">\n",
       "  <thead>\n",
       "    <tr style=\"text-align: right;\">\n",
       "      <th></th>\n",
       "      <th>Year</th>\n",
       "      <th>Industry_name_NZSIOC</th>\n",
       "      <th>Units</th>\n",
       "      <th>Variable_name</th>\n",
       "      <th>Variable_category</th>\n",
       "      <th>Value</th>\n",
       "    </tr>\n",
       "  </thead>\n",
       "  <tbody>\n",
       "    <tr>\n",
       "      <th>343</th>\n",
       "      <td>2023</td>\n",
       "      <td>Forestry and Logging</td>\n",
       "      <td>Dollars (millions)</td>\n",
       "      <td>Redundancy and severance</td>\n",
       "      <td>Financial performance</td>\n",
       "      <td>0</td>\n",
       "    </tr>\n",
       "    <tr>\n",
       "      <th>14272</th>\n",
       "      <td>2020</td>\n",
       "      <td>Fishing and Aquaculture</td>\n",
       "      <td>Dollars (millions)</td>\n",
       "      <td>Non-operating income</td>\n",
       "      <td>Financial performance</td>\n",
       "      <td>19</td>\n",
       "    </tr>\n",
       "    <tr>\n",
       "      <th>50545</th>\n",
       "      <td>2013</td>\n",
       "      <td>Health Care and Social Assistance</td>\n",
       "      <td>Dollars (millions)</td>\n",
       "      <td>Total expenditure</td>\n",
       "      <td>Financial performance</td>\n",
       "      <td>12,061</td>\n",
       "    </tr>\n",
       "    <tr>\n",
       "      <th>9719</th>\n",
       "      <td>2021</td>\n",
       "      <td>Mining</td>\n",
       "      <td>Dollars (millions)</td>\n",
       "      <td>Current liabilities</td>\n",
       "      <td>Financial position</td>\n",
       "      <td>3235</td>\n",
       "    </tr>\n",
       "    <tr>\n",
       "      <th>42472</th>\n",
       "      <td>2014</td>\n",
       "      <td>Pulp, Paper and Converted Paper Product Manufa...</td>\n",
       "      <td>Dollars (millions)</td>\n",
       "      <td>Redundancy and severance</td>\n",
       "      <td>Financial performance</td>\n",
       "      <td>C</td>\n",
       "    </tr>\n",
       "  </tbody>\n",
       "</table>\n",
       "</div>"
      ]
     },
     "execution_count": 6,
     "metadata": {},
     "output_type": "execute_result"
    }
   ],
   "execution_count": 6
  },
  {
   "metadata": {},
   "cell_type": "markdown",
   "source": "#### Kolonu sa ponavljajućim vrednostima (npr. imena gradova, tipovi proizvoda), pogodno je konvertovati u kategorijski tip:",
   "id": "9a6ad96624aa0a47"
  },
  {
   "metadata": {
    "ExecuteTime": {
     "end_time": "2025-01-26T12:28:09.230322Z",
     "start_time": "2025-01-26T12:28:09.219714Z"
    }
   },
   "cell_type": "code",
   "source": [
    "nzl['Industry_name_NZSIOC'] = nzl['Industry_name_NZSIOC'].astype('category')\n",
    "nzl.dtypes"
   ],
   "id": "2266d5747fb51b26",
   "outputs": [
    {
     "data": {
      "text/plain": [
       "Year                       int64\n",
       "Industry_name_NZSIOC    category\n",
       "Units                     object\n",
       "Variable_name             object\n",
       "Variable_category         object\n",
       "Value                     object\n",
       "dtype: object"
      ]
     },
     "execution_count": 11,
     "metadata": {},
     "output_type": "execute_result"
    }
   ],
   "execution_count": 11
  },
  {
   "metadata": {},
   "cell_type": "markdown",
   "source": "#### Pregled svih kategorija:",
   "id": "6ac6f037340f0d2f"
  },
  {
   "metadata": {
    "ExecuteTime": {
     "end_time": "2025-01-26T12:29:29.026624Z",
     "start_time": "2025-01-26T12:29:29.014428Z"
    }
   },
   "cell_type": "code",
   "source": "nzl['Industry_name_NZSIOC'].cat.categories",
   "id": "1364046600c2bc4c",
   "outputs": [
    {
     "data": {
      "text/plain": [
       "Index(['Accommodation', 'Accommodation and Food Services',\n",
       "       'Administrative and Support Services',\n",
       "       'Adult, Community and Other Education',\n",
       "       'Advertising, Market Research and Management Services',\n",
       "       'Agriculture, Forestry and Fishing',\n",
       "       'Agriculture, Forestry and Fishing Support Services and Hunting',\n",
       "       'All industries', 'Arts and Recreation Services',\n",
       "       'Arts, Recreation and Other Services',\n",
       "       ...\n",
       "       'Textile, Leather, Clothing and Footwear Manufacturing',\n",
       "       'Transport Equipment Manufacturing', 'Transport Support Services',\n",
       "       'Transport, Postal and Warehousing',\n",
       "       'Travel Agency and Tour Arrangement Services',\n",
       "       'Veterinary and Other Professional Services',\n",
       "       'Warehousing and Storage Services',\n",
       "       'Water, Sewerage, Drainage and Waste Services', 'Wholesale Trade',\n",
       "       'Wood Product Manufacturing'],\n",
       "      dtype='object', length=119)"
      ]
     },
     "execution_count": 12,
     "metadata": {},
     "output_type": "execute_result"
    }
   ],
   "execution_count": 12
  },
  {
   "metadata": {},
   "cell_type": "markdown",
   "source": "#### Filtriranje po kategoriji",
   "id": "5f2cca8ceae420a1"
  },
  {
   "metadata": {
    "ExecuteTime": {
     "end_time": "2025-01-26T12:43:19.909996Z",
     "start_time": "2025-01-26T12:43:19.899352Z"
    }
   },
   "cell_type": "code",
   "source": "nzl[nzl['Industry_name_NZSIOC'] == 'Manufacturing']",
   "id": "2a21be8af164dad0",
   "outputs": [
    {
     "data": {
      "text/plain": [
       "       Year Industry_name_NZSIOC               Units  \\\n",
       "458    2023        Manufacturing  Dollars (millions)   \n",
       "459    2023        Manufacturing  Dollars (millions)   \n",
       "460    2023        Manufacturing  Dollars (millions)   \n",
       "461    2023        Manufacturing  Dollars (millions)   \n",
       "462    2023        Manufacturing  Dollars (millions)   \n",
       "...     ...                  ...                 ...   \n",
       "46839  2013        Manufacturing          Percentage   \n",
       "46840  2013        Manufacturing          Percentage   \n",
       "46841  2013        Manufacturing          Percentage   \n",
       "46842  2013        Manufacturing          Percentage   \n",
       "46843  2013        Manufacturing          Percentage   \n",
       "\n",
       "                                  Variable_name      Variable_category   Value  \n",
       "458                                Total income  Financial performance  131578  \n",
       "459        Sales of goods not further processed  Financial performance    7804  \n",
       "460           Sales of other goods and services  Financial performance  122081  \n",
       "461           Interest, dividends and donations  Financial performance     562  \n",
       "462    Government funding, grants and subsidies  Financial performance     188  \n",
       "...                                         ...                    ...     ...  \n",
       "46839                               Quick ratio       Financial ratios      76  \n",
       "46840       Margin on sales of goods for resale       Financial ratios      27  \n",
       "46841                          Return on equity       Financial ratios      10  \n",
       "46842                    Return on total assets       Financial ratios       4  \n",
       "46843                     Liabilities structure       Financial ratios      46  \n",
       "\n",
       "[396 rows x 6 columns]"
      ],
      "text/html": [
       "<div>\n",
       "<style scoped>\n",
       "    .dataframe tbody tr th:only-of-type {\n",
       "        vertical-align: middle;\n",
       "    }\n",
       "\n",
       "    .dataframe tbody tr th {\n",
       "        vertical-align: top;\n",
       "    }\n",
       "\n",
       "    .dataframe thead th {\n",
       "        text-align: right;\n",
       "    }\n",
       "</style>\n",
       "<table border=\"1\" class=\"dataframe\">\n",
       "  <thead>\n",
       "    <tr style=\"text-align: right;\">\n",
       "      <th></th>\n",
       "      <th>Year</th>\n",
       "      <th>Industry_name_NZSIOC</th>\n",
       "      <th>Units</th>\n",
       "      <th>Variable_name</th>\n",
       "      <th>Variable_category</th>\n",
       "      <th>Value</th>\n",
       "    </tr>\n",
       "  </thead>\n",
       "  <tbody>\n",
       "    <tr>\n",
       "      <th>458</th>\n",
       "      <td>2023</td>\n",
       "      <td>Manufacturing</td>\n",
       "      <td>Dollars (millions)</td>\n",
       "      <td>Total income</td>\n",
       "      <td>Financial performance</td>\n",
       "      <td>131578</td>\n",
       "    </tr>\n",
       "    <tr>\n",
       "      <th>459</th>\n",
       "      <td>2023</td>\n",
       "      <td>Manufacturing</td>\n",
       "      <td>Dollars (millions)</td>\n",
       "      <td>Sales of goods not further processed</td>\n",
       "      <td>Financial performance</td>\n",
       "      <td>7804</td>\n",
       "    </tr>\n",
       "    <tr>\n",
       "      <th>460</th>\n",
       "      <td>2023</td>\n",
       "      <td>Manufacturing</td>\n",
       "      <td>Dollars (millions)</td>\n",
       "      <td>Sales of other goods and services</td>\n",
       "      <td>Financial performance</td>\n",
       "      <td>122081</td>\n",
       "    </tr>\n",
       "    <tr>\n",
       "      <th>461</th>\n",
       "      <td>2023</td>\n",
       "      <td>Manufacturing</td>\n",
       "      <td>Dollars (millions)</td>\n",
       "      <td>Interest, dividends and donations</td>\n",
       "      <td>Financial performance</td>\n",
       "      <td>562</td>\n",
       "    </tr>\n",
       "    <tr>\n",
       "      <th>462</th>\n",
       "      <td>2023</td>\n",
       "      <td>Manufacturing</td>\n",
       "      <td>Dollars (millions)</td>\n",
       "      <td>Government funding, grants and subsidies</td>\n",
       "      <td>Financial performance</td>\n",
       "      <td>188</td>\n",
       "    </tr>\n",
       "    <tr>\n",
       "      <th>...</th>\n",
       "      <td>...</td>\n",
       "      <td>...</td>\n",
       "      <td>...</td>\n",
       "      <td>...</td>\n",
       "      <td>...</td>\n",
       "      <td>...</td>\n",
       "    </tr>\n",
       "    <tr>\n",
       "      <th>46839</th>\n",
       "      <td>2013</td>\n",
       "      <td>Manufacturing</td>\n",
       "      <td>Percentage</td>\n",
       "      <td>Quick ratio</td>\n",
       "      <td>Financial ratios</td>\n",
       "      <td>76</td>\n",
       "    </tr>\n",
       "    <tr>\n",
       "      <th>46840</th>\n",
       "      <td>2013</td>\n",
       "      <td>Manufacturing</td>\n",
       "      <td>Percentage</td>\n",
       "      <td>Margin on sales of goods for resale</td>\n",
       "      <td>Financial ratios</td>\n",
       "      <td>27</td>\n",
       "    </tr>\n",
       "    <tr>\n",
       "      <th>46841</th>\n",
       "      <td>2013</td>\n",
       "      <td>Manufacturing</td>\n",
       "      <td>Percentage</td>\n",
       "      <td>Return on equity</td>\n",
       "      <td>Financial ratios</td>\n",
       "      <td>10</td>\n",
       "    </tr>\n",
       "    <tr>\n",
       "      <th>46842</th>\n",
       "      <td>2013</td>\n",
       "      <td>Manufacturing</td>\n",
       "      <td>Percentage</td>\n",
       "      <td>Return on total assets</td>\n",
       "      <td>Financial ratios</td>\n",
       "      <td>4</td>\n",
       "    </tr>\n",
       "    <tr>\n",
       "      <th>46843</th>\n",
       "      <td>2013</td>\n",
       "      <td>Manufacturing</td>\n",
       "      <td>Percentage</td>\n",
       "      <td>Liabilities structure</td>\n",
       "      <td>Financial ratios</td>\n",
       "      <td>46</td>\n",
       "    </tr>\n",
       "  </tbody>\n",
       "</table>\n",
       "<p>396 rows × 6 columns</p>\n",
       "</div>"
      ]
     },
     "execution_count": 20,
     "metadata": {},
     "output_type": "execute_result"
    }
   ],
   "execution_count": 20
  },
  {
   "metadata": {},
   "cell_type": "markdown",
   "source": "#### Promena imena kategorije i izvlačenje novog naziva kategorije",
   "id": "c2f5de3a60729bca"
  },
  {
   "metadata": {
    "ExecuteTime": {
     "end_time": "2025-01-26T12:51:48.279851Z",
     "start_time": "2025-01-26T12:51:48.271015Z"
    }
   },
   "cell_type": "code",
   "source": [
    "nzl['Industry_name_NZSIOC'] = nzl['Industry_name_NZSIOC'].cat.rename_categories({'Pharmaceutical and Other Store Based Retailing': 'Pharmaceutical Retailing'})\n",
    "nzl['Industry_name_NZSIOC'].loc[nzl['Industry_name_NZSIOC'].str.startswith('Ph')].value_counts().head(5)"
   ],
   "id": "53f2d5f9979ae66d",
   "outputs": [
    {
     "data": {
      "text/plain": [
       "Industry_name_NZSIOC\n",
       "Pharmaceutical Retailing                                     396\n",
       "Pharmaceutical, Cleaning and Other Chemical Manufacturing    396\n",
       "Accommodation                                                  0\n",
       "Adult, Community and Other Education                           0\n",
       "Advertising, Market Research and Management Services           0\n",
       "Name: count, dtype: int64"
      ]
     },
     "execution_count": 30,
     "metadata": {},
     "output_type": "execute_result"
    }
   ],
   "execution_count": 30
  },
  {
   "metadata": {},
   "cell_type": "markdown",
   "source": [
    "## Rad sa duplikatima\n",
    "#### Metoda duplicated() preslikava svaku vrednost datafrejma, (skupa) kolona, ili pandas serije u True ako je duplikat, u suprotnom False. Funkcija podrazumeva da prvo pojavljivanje odr. vrednosti nije duplikat, a sva naredna pojavljivanja tumači kao duplikate."
   ],
   "id": "19fd10ce029e44e9"
  },
  {
   "metadata": {
    "ExecuteTime": {
     "end_time": "2025-01-26T13:39:11.094681Z",
     "start_time": "2025-01-26T13:39:11.068658Z"
    }
   },
   "cell_type": "code",
   "source": "nzl.duplicated().value_counts()",
   "id": "27671609d7d57da7",
   "outputs": [
    {
     "data": {
      "text/plain": [
       "False    43331\n",
       "True      7654\n",
       "Name: count, dtype: int64"
      ]
     },
     "execution_count": 36,
     "metadata": {},
     "output_type": "execute_result"
    }
   ],
   "execution_count": 36
  },
  {
   "metadata": {},
   "cell_type": "markdown",
   "source": "",
   "id": "99b7fe711a4237c6"
  },
  {
   "metadata": {},
   "cell_type": "markdown",
   "source": "#### Kao što je prethodno navedeno, metoda duplicated može da se primeni i nad pojedinačnom kolonom, ili više njih.",
   "id": "37093523f0d13dc1"
  },
  {
   "metadata": {
    "ExecuteTime": {
     "end_time": "2025-01-26T13:54:17.852630Z",
     "start_time": "2025-01-26T13:54:17.844032Z"
    }
   },
   "cell_type": "code",
   "source": "nzl['Value'].duplicated()",
   "id": "1a23fb494eb0bc8d",
   "outputs": [
    {
     "data": {
      "text/plain": [
       "0        False\n",
       "1        False\n",
       "2        False\n",
       "3        False\n",
       "4        False\n",
       "         ...  \n",
       "50980     True\n",
       "50981     True\n",
       "50982     True\n",
       "50983     True\n",
       "50984     True\n",
       "Name: Value, Length: 50985, dtype: bool"
      ]
     },
     "execution_count": 42,
     "metadata": {},
     "output_type": "execute_result"
    }
   ],
   "execution_count": 42
  },
  {
   "metadata": {
    "ExecuteTime": {
     "end_time": "2025-01-26T13:53:45.728577Z",
     "start_time": "2025-01-26T13:53:45.718475Z"
    }
   },
   "cell_type": "code",
   "source": "nzl['Value'].duplicated().value_counts()",
   "id": "173bef34b3196dff",
   "outputs": [
    {
     "data": {
      "text/plain": [
       "Value\n",
       "True     37312\n",
       "False    13673\n",
       "Name: count, dtype: int64"
      ]
     },
     "execution_count": 40,
     "metadata": {},
     "output_type": "execute_result"
    }
   ],
   "execution_count": 40
  },
  {
   "metadata": {},
   "cell_type": "markdown",
   "source": "#### U okviru parametra subset možemo navesti kolone (ili samo jednu), na osnovu kojih se posmatraju uređene n-torke po kojima ćemo raditi proveru duplikata.",
   "id": "347cc47b2e00b9e9"
  },
  {
   "metadata": {
    "ExecuteTime": {
     "end_time": "2025-01-26T13:59:05.572300Z",
     "start_time": "2025-01-26T13:59:05.556783Z"
    }
   },
   "cell_type": "code",
   "source": "nzl.duplicated(subset=['Industry_name_NZSIOC','Value']).value_counts()",
   "id": "424e493a09c49343",
   "outputs": [
    {
     "data": {
      "text/plain": [
       "False    32157\n",
       "True     18828\n",
       "Name: count, dtype: int64"
      ]
     },
     "execution_count": 45,
     "metadata": {},
     "output_type": "execute_result"
    }
   ],
   "execution_count": 45
  },
  {
   "metadata": {},
   "cell_type": "markdown",
   "source": "#### Duplikate je moguće ukloniti korišćenjem metode drop_duplicates. Ako želimo da promene nad datafrejmom ostanu trajne, postavljamo inplace parametar na True.",
   "id": "3478ebb5ac2ecde6"
  },
  {
   "metadata": {
    "ExecuteTime": {
     "end_time": "2025-01-26T14:17:39.483132Z",
     "start_time": "2025-01-26T14:17:39.455913Z"
    }
   },
   "cell_type": "code",
   "source": [
    "print(f'Pre: {nzl.shape}')\n",
    "print(f'Posle:{nzl.drop_duplicates().shape}')"
   ],
   "id": "1d70d0859e84f309",
   "outputs": [
    {
     "name": "stdout",
     "output_type": "stream",
     "text": [
      "Pre: (50985, 6)\n",
      "Posle:(43331, 6)\n"
     ]
    }
   ],
   "execution_count": 48
  },
  {
   "metadata": {},
   "cell_type": "markdown",
   "source": "#### Vidimo da je oko 7000 redova duplikata izbačeno iz datafrejma. Budući da nismo postavili inplace na True, datafrejm idalje ima redpve duplikate u sebi.",
   "id": "e567a83be5f6a6f4"
  },
  {
   "metadata": {
    "ExecuteTime": {
     "end_time": "2025-01-26T14:19:55.535080Z",
     "start_time": "2025-01-26T14:19:55.530624Z"
    }
   },
   "cell_type": "code",
   "source": "nzl.shape",
   "id": "ca23cb100590ba23",
   "outputs": [
    {
     "data": {
      "text/plain": [
       "(50985, 6)"
      ]
     },
     "execution_count": 49,
     "metadata": {},
     "output_type": "execute_result"
    }
   ],
   "execution_count": 49
  },
  {
   "metadata": {},
   "cell_type": "markdown",
   "source": "#### Ako želimo da uklonimo sve redove koji imaju duplikat kao vrednost odr. kolone, to radimo na sledeći način:",
   "id": "e38001dc35b059fd"
  },
  {
   "metadata": {
    "ExecuteTime": {
     "end_time": "2025-01-26T14:24:33.662130Z",
     "start_time": "2025-01-26T14:24:33.652104Z"
    }
   },
   "cell_type": "code",
   "source": "nzl.Value.drop_duplicates()",
   "id": "761bf0b333429da1",
   "outputs": [
    {
     "data": {
      "text/plain": [
       "0         930995\n",
       "1         821630\n",
       "2          84354\n",
       "3          25010\n",
       "4         832964\n",
       "          ...   \n",
       "50972      5,434\n",
       "50974     10,670\n",
       "50975     10,212\n",
       "50976      2,220\n",
       "50977    523,700\n",
       "Name: Value, Length: 13673, dtype: object"
      ]
     },
     "execution_count": 50,
     "metadata": {},
     "output_type": "execute_result"
    }
   ],
   "execution_count": 50
  },
  {
   "metadata": {
    "ExecuteTime": {
     "end_time": "2025-01-26T14:36:23.049648Z",
     "start_time": "2025-01-26T14:36:23.040468Z"
    }
   },
   "cell_type": "code",
   "source": "nzl['Value'].drop_duplicates().duplicated().value_counts()",
   "id": "eb0c2d5e3e764e0a",
   "outputs": [
    {
     "data": {
      "text/plain": [
       "Value\n",
       "False    13673\n",
       "Name: count, dtype: int64"
      ]
     },
     "execution_count": 59,
     "metadata": {},
     "output_type": "execute_result"
    }
   ],
   "execution_count": 59
  },
  {
   "metadata": {},
   "cell_type": "markdown",
   "source": "#### Prilikom uklanjanja duplikata podrazumevano je da se čuva prvo pojavljivanje odr. jedinstvene vrednosti. Ukoliko želimo da čuvamo poslednje pojavljivanje, to navodimo u parametru keep (postavljamo ga na last).",
   "id": "bd3bb02615c3dcb9"
  },
  {
   "metadata": {
    "ExecuteTime": {
     "end_time": "2025-01-26T14:52:37.742191Z",
     "start_time": "2025-01-26T14:52:37.711547Z"
    }
   },
   "cell_type": "code",
   "source": [
    "nzl.drop_duplicates(['Industry_name_NZSIOC','Value'],keep='last', inplace=True)\n",
    "nzl[['Industry_name_NZSIOC','Value']].value_counts()"
   ],
   "id": "5072574031865ef3",
   "outputs": [
    {
     "data": {
      "text/plain": [
       "Industry_name_NZSIOC        Value\n",
       "Wood Product Manufacturing  C        1\n",
       "Accommodation               0        1\n",
       "                            1        1\n",
       "                            1,081    1\n",
       "                            1,084    1\n",
       "                                    ..\n",
       "                            1,486    1\n",
       "                            1,444    1\n",
       "                            1,377    1\n",
       "                            1,373    1\n",
       "                            1,322    1\n",
       "Name: count, Length: 32157, dtype: int64"
      ]
     },
     "execution_count": 69,
     "metadata": {},
     "output_type": "execute_result"
    }
   ],
   "execution_count": 69
  },
  {
   "metadata": {},
   "cell_type": "markdown",
   "source": "#### Moguće je da indeksi redova imaju duplikate. Pokazaćemo kako se utvrđuje da li je ovaj problem prisutan, kao i kako bi se otklonio. Indeksi našeg dataseta su celobrojne vrednosti, što se vidi iz priloženog.",
   "id": "51ef42fe8c4550ca"
  },
  {
   "metadata": {
    "ExecuteTime": {
     "end_time": "2025-01-26T14:46:36.665388Z",
     "start_time": "2025-01-26T14:46:36.660878Z"
    }
   },
   "cell_type": "code",
   "source": "nzl.index",
   "id": "f6229e4c0b74e4e3",
   "outputs": [
    {
     "data": {
      "text/plain": [
       "Index([    0,     1,     2,     3,     4,     5,     6,     7,     8,     9,\n",
       "       ...\n",
       "       50975, 50976, 50977, 50978, 50979, 50980, 50981, 50982, 50983, 50984],\n",
       "      dtype='int64', length=32157)"
      ]
     },
     "execution_count": 60,
     "metadata": {},
     "output_type": "execute_result"
    }
   ],
   "execution_count": 60
  },
  {
   "metadata": {},
   "cell_type": "markdown",
   "source": "#### Za identifikaciju duplikata koristićemo već pomenutu metodu duplicated(), i uvešćemo jednu novu.",
   "id": "b2eb75a0c2c8d23b"
  },
  {
   "metadata": {
    "ExecuteTime": {
     "end_time": "2025-01-26T14:48:56.031355Z",
     "start_time": "2025-01-26T14:48:56.026258Z"
    }
   },
   "cell_type": "code",
   "source": "nzl.index.duplicated()",
   "id": "7622d504c11f6948",
   "outputs": [
    {
     "data": {
      "text/plain": [
       "array([False, False, False, ..., False, False, False])"
      ]
     },
     "execution_count": 65,
     "metadata": {},
     "output_type": "execute_result"
    }
   ],
   "execution_count": 65
  },
  {
   "metadata": {
    "ExecuteTime": {
     "end_time": "2025-01-26T14:49:37.021931Z",
     "start_time": "2025-01-26T14:49:37.017180Z"
    }
   },
   "cell_type": "code",
   "source": "nzl.index.has_duplicates",
   "id": "427f604248abf138",
   "outputs": [
    {
     "data": {
      "text/plain": [
       "False"
      ]
     },
     "execution_count": 66,
     "metadata": {},
     "output_type": "execute_result"
    }
   ],
   "execution_count": 66
  },
  {
   "metadata": {},
   "cell_type": "markdown",
   "source": "#### Primećujemo da naš datafrejm ima jedinstvene indekse. Međutim, ukoliko to ne bi bio slučaj, preporuka bi bila da se indeksi resetuju, i postave novi. Postavili smo vrednost True kod parametra drop, kako ne bi čuvao stare indekse. Indeksi su nam se promenili jer sad naš datafrejm ima manje redova (prethodno smo u jednoj naredbi koristili inplace=True pa je deo redova sa duplikatima obrisan).",
   "id": "218bad5f50f95b58"
  },
  {
   "metadata": {
    "ExecuteTime": {
     "end_time": "2025-01-26T14:53:34.370535Z",
     "start_time": "2025-01-26T14:53:34.359823Z"
    }
   },
   "cell_type": "code",
   "source": "nzl.reset_index(drop=True)",
   "id": "31322a5d756fa5bd",
   "outputs": [
    {
     "data": {
      "text/plain": [
       "       Year        Industry_name_NZSIOC               Units  \\\n",
       "0      2023              All industries  Dollars (millions)   \n",
       "1      2023              All industries  Dollars (millions)   \n",
       "2      2023              All industries  Dollars (millions)   \n",
       "3      2023              All industries  Dollars (millions)   \n",
       "4      2023              All industries  Dollars (millions)   \n",
       "...     ...                         ...                 ...   \n",
       "32152  2013  Food product manufacturing          Percentage   \n",
       "32153  2013  Food product manufacturing          Percentage   \n",
       "32154  2013  Food product manufacturing          Percentage   \n",
       "32155  2013  Food product manufacturing          Percentage   \n",
       "32156  2013  Food product manufacturing          Percentage   \n",
       "\n",
       "                                         Variable_name      Variable_category  \\\n",
       "0                                         Total income  Financial performance   \n",
       "1      Sales, government funding, grants and subsidies  Financial performance   \n",
       "2                    Interest, dividends and donations  Financial performance   \n",
       "3                                 Non-operating income  Financial performance   \n",
       "4                                    Total expenditure  Financial performance   \n",
       "...                                                ...                    ...   \n",
       "32152                                      Quick ratio       Financial ratios   \n",
       "32153              Margin on sales of goods for resale       Financial ratios   \n",
       "32154                                 Return on equity       Financial ratios   \n",
       "32155                           Return on total assets       Financial ratios   \n",
       "32156                            Liabilities structure       Financial ratios   \n",
       "\n",
       "        Value  \n",
       "0      930995  \n",
       "1      821630  \n",
       "2       84354  \n",
       "3       25010  \n",
       "4      832964  \n",
       "...       ...  \n",
       "32152      52  \n",
       "32153      40  \n",
       "32154      12  \n",
       "32155       5  \n",
       "32156      46  \n",
       "\n",
       "[32157 rows x 6 columns]"
      ],
      "text/html": [
       "<div>\n",
       "<style scoped>\n",
       "    .dataframe tbody tr th:only-of-type {\n",
       "        vertical-align: middle;\n",
       "    }\n",
       "\n",
       "    .dataframe tbody tr th {\n",
       "        vertical-align: top;\n",
       "    }\n",
       "\n",
       "    .dataframe thead th {\n",
       "        text-align: right;\n",
       "    }\n",
       "</style>\n",
       "<table border=\"1\" class=\"dataframe\">\n",
       "  <thead>\n",
       "    <tr style=\"text-align: right;\">\n",
       "      <th></th>\n",
       "      <th>Year</th>\n",
       "      <th>Industry_name_NZSIOC</th>\n",
       "      <th>Units</th>\n",
       "      <th>Variable_name</th>\n",
       "      <th>Variable_category</th>\n",
       "      <th>Value</th>\n",
       "    </tr>\n",
       "  </thead>\n",
       "  <tbody>\n",
       "    <tr>\n",
       "      <th>0</th>\n",
       "      <td>2023</td>\n",
       "      <td>All industries</td>\n",
       "      <td>Dollars (millions)</td>\n",
       "      <td>Total income</td>\n",
       "      <td>Financial performance</td>\n",
       "      <td>930995</td>\n",
       "    </tr>\n",
       "    <tr>\n",
       "      <th>1</th>\n",
       "      <td>2023</td>\n",
       "      <td>All industries</td>\n",
       "      <td>Dollars (millions)</td>\n",
       "      <td>Sales, government funding, grants and subsidies</td>\n",
       "      <td>Financial performance</td>\n",
       "      <td>821630</td>\n",
       "    </tr>\n",
       "    <tr>\n",
       "      <th>2</th>\n",
       "      <td>2023</td>\n",
       "      <td>All industries</td>\n",
       "      <td>Dollars (millions)</td>\n",
       "      <td>Interest, dividends and donations</td>\n",
       "      <td>Financial performance</td>\n",
       "      <td>84354</td>\n",
       "    </tr>\n",
       "    <tr>\n",
       "      <th>3</th>\n",
       "      <td>2023</td>\n",
       "      <td>All industries</td>\n",
       "      <td>Dollars (millions)</td>\n",
       "      <td>Non-operating income</td>\n",
       "      <td>Financial performance</td>\n",
       "      <td>25010</td>\n",
       "    </tr>\n",
       "    <tr>\n",
       "      <th>4</th>\n",
       "      <td>2023</td>\n",
       "      <td>All industries</td>\n",
       "      <td>Dollars (millions)</td>\n",
       "      <td>Total expenditure</td>\n",
       "      <td>Financial performance</td>\n",
       "      <td>832964</td>\n",
       "    </tr>\n",
       "    <tr>\n",
       "      <th>...</th>\n",
       "      <td>...</td>\n",
       "      <td>...</td>\n",
       "      <td>...</td>\n",
       "      <td>...</td>\n",
       "      <td>...</td>\n",
       "      <td>...</td>\n",
       "    </tr>\n",
       "    <tr>\n",
       "      <th>32152</th>\n",
       "      <td>2013</td>\n",
       "      <td>Food product manufacturing</td>\n",
       "      <td>Percentage</td>\n",
       "      <td>Quick ratio</td>\n",
       "      <td>Financial ratios</td>\n",
       "      <td>52</td>\n",
       "    </tr>\n",
       "    <tr>\n",
       "      <th>32153</th>\n",
       "      <td>2013</td>\n",
       "      <td>Food product manufacturing</td>\n",
       "      <td>Percentage</td>\n",
       "      <td>Margin on sales of goods for resale</td>\n",
       "      <td>Financial ratios</td>\n",
       "      <td>40</td>\n",
       "    </tr>\n",
       "    <tr>\n",
       "      <th>32154</th>\n",
       "      <td>2013</td>\n",
       "      <td>Food product manufacturing</td>\n",
       "      <td>Percentage</td>\n",
       "      <td>Return on equity</td>\n",
       "      <td>Financial ratios</td>\n",
       "      <td>12</td>\n",
       "    </tr>\n",
       "    <tr>\n",
       "      <th>32155</th>\n",
       "      <td>2013</td>\n",
       "      <td>Food product manufacturing</td>\n",
       "      <td>Percentage</td>\n",
       "      <td>Return on total assets</td>\n",
       "      <td>Financial ratios</td>\n",
       "      <td>5</td>\n",
       "    </tr>\n",
       "    <tr>\n",
       "      <th>32156</th>\n",
       "      <td>2013</td>\n",
       "      <td>Food product manufacturing</td>\n",
       "      <td>Percentage</td>\n",
       "      <td>Liabilities structure</td>\n",
       "      <td>Financial ratios</td>\n",
       "      <td>46</td>\n",
       "    </tr>\n",
       "  </tbody>\n",
       "</table>\n",
       "<p>32157 rows × 6 columns</p>\n",
       "</div>"
      ]
     },
     "execution_count": 70,
     "metadata": {},
     "output_type": "execute_result"
    }
   ],
   "execution_count": 70
  },
  {
   "metadata": {},
   "cell_type": "markdown",
   "source": [
    "## Nullable tipovi u pandasu\n",
    "#### Tipovi koji nisu nullable: int, bool. Svi ostali tipovi su nullable: object, int64, float64, boolean, string, datetime itd."
   ],
   "id": "665b1913820c0490"
  },
  {
   "metadata": {
    "ExecuteTime": {
     "end_time": "2025-01-26T15:42:58.001014Z",
     "start_time": "2025-01-26T15:42:57.995012Z"
    }
   },
   "cell_type": "code",
   "source": [
    "try:\n",
    "    df = pd.DataFrame({\n",
    "        'Int': pd.Series([1, 2, None], dtype='int'),\n",
    "        'Float': [1.1, 2.2, None],\n",
    "        'String': pd.Series(['a', None, 'b'], dtype='object'),\n",
    "        'Object': ['a', None, 'b']\n",
    "    })\n",
    "except TypeError as er:\n",
    "    print(er)"
   ],
   "id": "179d2cac54e5f97d",
   "outputs": [
    {
     "name": "stdout",
     "output_type": "stream",
     "text": [
      "int() argument must be a string, a bytes-like object or a real number, not 'NoneType'\n"
     ]
    }
   ],
   "execution_count": 75
  },
  {
   "metadata": {},
   "cell_type": "markdown",
   "source": "#### Desila se greška u izvršavanju koda jer je tipu int (koji nije nullable) prosleđena None vrednost. Kod bool tipa ne desi se greška, već se None interpretiraju kao False, jer bool ne podržava None tip.",
   "id": "41cd0ec6a59584af"
  },
  {
   "metadata": {
    "ExecuteTime": {
     "end_time": "2025-01-26T15:47:55.813557Z",
     "start_time": "2025-01-26T15:47:55.807031Z"
    }
   },
   "cell_type": "code",
   "source": [
    "try:\n",
    "    df = pd.DataFrame({'Bool': [True, None, False]}, dtype='bool')\n",
    "except TypeError as e:\n",
    "    print(f\"Greška: {e}\")\n",
    "df.Bool"
   ],
   "id": "f63f030f0ed86d53",
   "outputs": [
    {
     "data": {
      "text/plain": [
       "0     True\n",
       "1    False\n",
       "2    False\n",
       "Name: Bool, dtype: bool"
      ]
     },
     "execution_count": 83,
     "metadata": {},
     "output_type": "execute_result"
    }
   ],
   "execution_count": 83
  }
 ],
 "metadata": {
  "kernelspec": {
   "display_name": "Python 3",
   "language": "python",
   "name": "python3"
  },
  "language_info": {
   "codemirror_mode": {
    "name": "ipython",
    "version": 2
   },
   "file_extension": ".py",
   "mimetype": "text/x-python",
   "name": "python",
   "nbconvert_exporter": "python",
   "pygments_lexer": "ipython2",
   "version": "2.7.6"
  }
 },
 "nbformat": 4,
 "nbformat_minor": 5
}
