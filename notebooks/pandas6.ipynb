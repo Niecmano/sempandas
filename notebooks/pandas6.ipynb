{
 "cells": [
  {
   "metadata": {},
   "cell_type": "markdown",
   "source": [
    "# VI deo\n",
    "#### Rad sa velikim količinama podataka (Big Data) u pandasu može postati izazovan zbog ograničenja memorije i performansi. Pandas je optimizovan za rad s podacima koji mogu stati u memoriju, ali za veće datasetove neophodno je koristiti jednu od strategija za skaliranje.\n"
   ],
   "id": "c1d1fee803a740e7"
  },
  {
   "cell_type": "code",
   "id": "initial_id",
   "metadata": {
    "collapsed": true,
    "ExecuteTime": {
     "end_time": "2025-01-27T17:34:04.461945Z",
     "start_time": "2025-01-27T17:33:56.573631Z"
    }
   },
   "source": [
    "import pandas as pd\n",
    "df = pd.read_csv('../data/crimes.csv')"
   ],
   "outputs": [],
   "execution_count": 2
  },
  {
   "metadata": {},
   "cell_type": "markdown",
   "source": "#### Učitali smo dataset koji ima čak milion redova i 28 kolona, dakle ukupno 28 miliona zapisa. ",
   "id": "9956414a4b852bf0"
  },
  {
   "metadata": {
    "ExecuteTime": {
     "end_time": "2025-01-27T17:34:04.498197Z",
     "start_time": "2025-01-27T17:34:04.485949Z"
    }
   },
   "cell_type": "code",
   "source": "df.shape",
   "id": "394073601bc5a27e",
   "outputs": [
    {
     "data": {
      "text/plain": [
       "(1003448, 28)"
      ]
     },
     "execution_count": 3,
     "metadata": {},
     "output_type": "execute_result"
    }
   ],
   "execution_count": 3
  },
  {
   "metadata": {},
   "cell_type": "markdown",
   "source": [
    "## Strategije za skaliranje\n",
    "#### Smanjivanje veličine dataseta korišćenjem tipova podataka koji zauzimaju manje memorije (npr. `float32` umesto `float64`, `int8` umesto `int64`)."
   ],
   "id": "edbfeddb3da7a291"
  },
  {
   "metadata": {
    "ExecuteTime": {
     "end_time": "2025-01-27T17:34:05.399731Z",
     "start_time": "2025-01-27T17:34:05.384801Z"
    }
   },
   "cell_type": "code",
   "source": "df.dtypes",
   "id": "6c5654807dfd35a0",
   "outputs": [
    {
     "data": {
      "text/plain": [
       "DR_NO               int64\n",
       "Date Rptd          object\n",
       "DATE OCC           object\n",
       "TIME OCC            int64\n",
       "AREA                int64\n",
       "AREA NAME          object\n",
       "Rpt Dist No         int64\n",
       "Part 1-2            int64\n",
       "Crm Cd              int64\n",
       "Crm Cd Desc        object\n",
       "Mocodes            object\n",
       "Vict Age            int64\n",
       "Vict Sex           object\n",
       "Vict Descent       object\n",
       "Premis Cd         float64\n",
       "Premis Desc        object\n",
       "Weapon Used Cd    float64\n",
       "Weapon Desc        object\n",
       "Status             object\n",
       "Status Desc        object\n",
       "Crm Cd 1          float64\n",
       "Crm Cd 2          float64\n",
       "Crm Cd 3          float64\n",
       "Crm Cd 4          float64\n",
       "LOCATION           object\n",
       "Cross Street       object\n",
       "LAT               float64\n",
       "LON               float64\n",
       "dtype: object"
      ]
     },
     "execution_count": 4,
     "metadata": {},
     "output_type": "execute_result"
    }
   ],
   "execution_count": 4
  },
  {
   "metadata": {},
   "cell_type": "markdown",
   "source": "#### Konvertovaćemo kolonu `DR_NO` iz int64 u int8, kao i `LAT` iz float64 u float32. Na kraju ćemo opet ispisati tipove kolona.",
   "id": "3a050a336c4023b8"
  },
  {
   "metadata": {
    "ExecuteTime": {
     "end_time": "2025-01-27T17:34:05.931012Z",
     "start_time": "2025-01-27T17:34:05.903009Z"
    }
   },
   "cell_type": "code",
   "source": [
    "df['DR_NO'] = df['DR_NO'].astype('int8')\n",
    "df['LAT'] = df['LAT'].astype('float32')\n",
    "df.dtypes"
   ],
   "id": "56fad95ebfb942f7",
   "outputs": [
    {
     "data": {
      "text/plain": [
       "DR_NO                int8\n",
       "Date Rptd          object\n",
       "DATE OCC           object\n",
       "TIME OCC            int64\n",
       "AREA                int64\n",
       "AREA NAME          object\n",
       "Rpt Dist No         int64\n",
       "Part 1-2            int64\n",
       "Crm Cd              int64\n",
       "Crm Cd Desc        object\n",
       "Mocodes            object\n",
       "Vict Age            int64\n",
       "Vict Sex           object\n",
       "Vict Descent       object\n",
       "Premis Cd         float64\n",
       "Premis Desc        object\n",
       "Weapon Used Cd    float64\n",
       "Weapon Desc        object\n",
       "Status             object\n",
       "Status Desc        object\n",
       "Crm Cd 1          float64\n",
       "Crm Cd 2          float64\n",
       "Crm Cd 3          float64\n",
       "Crm Cd 4          float64\n",
       "LOCATION           object\n",
       "Cross Street       object\n",
       "LAT               float32\n",
       "LON               float64\n",
       "dtype: object"
      ]
     },
     "execution_count": 5,
     "metadata": {},
     "output_type": "execute_result"
    }
   ],
   "execution_count": 5
  },
  {
   "metadata": {},
   "cell_type": "markdown",
   "source": "#### Još jedna mogućnost je učitavanje podskupa kolona pomoću parametra `usecols` pri učitavanju podataka. U našem slučaju, umesto da radimo sa 28 kolona (28 miliona podataka), možemo izdvojiti 4 ključne kolone (4 miliona podataka). ",
   "id": "4e3479c2ccbaa73d"
  },
  {
   "metadata": {
    "ExecuteTime": {
     "end_time": "2025-01-27T17:34:10.949068Z",
     "start_time": "2025-01-27T17:34:06.200638Z"
    }
   },
   "cell_type": "code",
   "source": [
    "df1 = pd.read_csv('../data/crimes.csv', usecols=['DATE OCC','AREA NAME','Crm Cd Desc','LOCATION'])\n",
    "df1.sample(8)"
   ],
   "id": "5a307404536fd422",
   "outputs": [
    {
     "data": {
      "text/plain": [
       "                      DATE OCC  AREA NAME  \\\n",
       "166403  01/24/2020 12:00:00 AM    Topanga   \n",
       "999949  01/22/2024 12:00:00 AM   Van Nuys   \n",
       "556704  08/11/2022 12:00:00 AM  Northeast   \n",
       "820529  09/03/2023 12:00:00 AM  Southwest   \n",
       "778282  02/19/2023 12:00:00 AM    Central   \n",
       "107628  06/21/2020 12:00:00 AM    Rampart   \n",
       "819149  08/08/2023 12:00:00 AM  Northeast   \n",
       "884158  02/20/2024 12:00:00 AM    Olympic   \n",
       "\n",
       "                                     Crm Cd Desc  \\\n",
       "166403                        BUNCO, PETTY THEFT   \n",
       "999949                               TRESPASSING   \n",
       "556704  SHOPLIFTING-GRAND THEFT ($950.01 & OVER)   \n",
       "820529     INTIMATE PARTNER - AGGRAVATED ASSAULT   \n",
       "778282  SHOPLIFTING - PETTY THEFT ($950 & UNDER)   \n",
       "107628     INTIMATE PARTNER - AGGRAVATED ASSAULT   \n",
       "819149        THEFT PLAIN - PETTY ($950 & UNDER)   \n",
       "884158                                  BURGLARY   \n",
       "\n",
       "                                        LOCATION  \n",
       "166403   7700    ALABAMA                      AV  \n",
       "999949  14100    CANTLAY                      ST  \n",
       "556704   4200    EAGLE ROCK                   BL  \n",
       "820529   2600    HILLCREST                    DR  \n",
       "778282                          1000 S  BROADWAY  \n",
       "107628           11TH                         ST  \n",
       "819149   4600    FINLEY                       AV  \n",
       "884158   4000 W  3RD                          ST  "
      ],
      "text/html": [
       "<div>\n",
       "<style scoped>\n",
       "    .dataframe tbody tr th:only-of-type {\n",
       "        vertical-align: middle;\n",
       "    }\n",
       "\n",
       "    .dataframe tbody tr th {\n",
       "        vertical-align: top;\n",
       "    }\n",
       "\n",
       "    .dataframe thead th {\n",
       "        text-align: right;\n",
       "    }\n",
       "</style>\n",
       "<table border=\"1\" class=\"dataframe\">\n",
       "  <thead>\n",
       "    <tr style=\"text-align: right;\">\n",
       "      <th></th>\n",
       "      <th>DATE OCC</th>\n",
       "      <th>AREA NAME</th>\n",
       "      <th>Crm Cd Desc</th>\n",
       "      <th>LOCATION</th>\n",
       "    </tr>\n",
       "  </thead>\n",
       "  <tbody>\n",
       "    <tr>\n",
       "      <th>166403</th>\n",
       "      <td>01/24/2020 12:00:00 AM</td>\n",
       "      <td>Topanga</td>\n",
       "      <td>BUNCO, PETTY THEFT</td>\n",
       "      <td>7700    ALABAMA                      AV</td>\n",
       "    </tr>\n",
       "    <tr>\n",
       "      <th>999949</th>\n",
       "      <td>01/22/2024 12:00:00 AM</td>\n",
       "      <td>Van Nuys</td>\n",
       "      <td>TRESPASSING</td>\n",
       "      <td>14100    CANTLAY                      ST</td>\n",
       "    </tr>\n",
       "    <tr>\n",
       "      <th>556704</th>\n",
       "      <td>08/11/2022 12:00:00 AM</td>\n",
       "      <td>Northeast</td>\n",
       "      <td>SHOPLIFTING-GRAND THEFT ($950.01 &amp; OVER)</td>\n",
       "      <td>4200    EAGLE ROCK                   BL</td>\n",
       "    </tr>\n",
       "    <tr>\n",
       "      <th>820529</th>\n",
       "      <td>09/03/2023 12:00:00 AM</td>\n",
       "      <td>Southwest</td>\n",
       "      <td>INTIMATE PARTNER - AGGRAVATED ASSAULT</td>\n",
       "      <td>2600    HILLCREST                    DR</td>\n",
       "    </tr>\n",
       "    <tr>\n",
       "      <th>778282</th>\n",
       "      <td>02/19/2023 12:00:00 AM</td>\n",
       "      <td>Central</td>\n",
       "      <td>SHOPLIFTING - PETTY THEFT ($950 &amp; UNDER)</td>\n",
       "      <td>1000 S  BROADWAY</td>\n",
       "    </tr>\n",
       "    <tr>\n",
       "      <th>107628</th>\n",
       "      <td>06/21/2020 12:00:00 AM</td>\n",
       "      <td>Rampart</td>\n",
       "      <td>INTIMATE PARTNER - AGGRAVATED ASSAULT</td>\n",
       "      <td>11TH                         ST</td>\n",
       "    </tr>\n",
       "    <tr>\n",
       "      <th>819149</th>\n",
       "      <td>08/08/2023 12:00:00 AM</td>\n",
       "      <td>Northeast</td>\n",
       "      <td>THEFT PLAIN - PETTY ($950 &amp; UNDER)</td>\n",
       "      <td>4600    FINLEY                       AV</td>\n",
       "    </tr>\n",
       "    <tr>\n",
       "      <th>884158</th>\n",
       "      <td>02/20/2024 12:00:00 AM</td>\n",
       "      <td>Olympic</td>\n",
       "      <td>BURGLARY</td>\n",
       "      <td>4000 W  3RD                          ST</td>\n",
       "    </tr>\n",
       "  </tbody>\n",
       "</table>\n",
       "</div>"
      ]
     },
     "execution_count": 6,
     "metadata": {},
     "output_type": "execute_result"
    }
   ],
   "execution_count": 6
  },
  {
   "metadata": {},
   "cell_type": "markdown",
   "source": "#### Chunk-based Processing (Obrada u segmentima): učitavanje i obrada podataka u manjim delovima (chunks) pomoću parametra chunksize",
   "id": "dc757fa1e8caa44c"
  },
  {
   "metadata": {
    "ExecuteTime": {
     "end_time": "2025-01-27T18:06:27.254530Z",
     "start_time": "2025-01-27T18:06:23.373217Z"
    }
   },
   "cell_type": "code",
   "source": [
    "for chunk in pd.read_csv('../data/crimes.csv',chunksize=10**5):\n",
    "    print(chunk.shape)"
   ],
   "id": "326ba02e4146c9c3",
   "outputs": [
    {
     "name": "stdout",
     "output_type": "stream",
     "text": [
      "(100000, 28)\n",
      "(100000, 28)\n",
      "(100000, 28)\n",
      "(100000, 28)\n",
      "(100000, 28)\n",
      "(100000, 28)\n",
      "(100000, 28)\n",
      "(100000, 28)\n",
      "(100000, 28)\n",
      "(100000, 28)\n",
      "(3448, 28)\n"
     ]
    }
   ],
   "execution_count": 31
  },
  {
   "metadata": {},
   "cell_type": "markdown",
   "source": [
    "## Sparse strukture podataka\n",
    "#### Sparse (retki) podaci u većem obimu sadrže vrednosti koje ne nose nikakvu informaciju (nule, None vrednosti i sl.). Primer takve strukture bila bi sl.lista: \n",
    "#### [1, 0, 2, 0, 0, 3, 0, 0, 0, 0, 0, 0]\n",
    "#### Sparse strukture podataka u Pandasu koriste se za efikasno skladištenje podataka koji imaju mnogo ponavljajućih vrednosti, obično nule ili NaN. Sparse objekti smanjuju memorijsko zauzeće tako što čuvaju samo značajne vrednosti i njihove indekse.\n",
    "#### Pandas podržava sparse strukture kroz module poput pandas.SparseArray i pandas.SparseDataFrame."
   ],
   "id": "e1ff5bec8d3c1cac"
  },
  {
   "metadata": {
    "ExecuteTime": {
     "end_time": "2025-01-28T12:38:11.528244Z",
     "start_time": "2025-01-28T12:38:11.519776Z"
    }
   },
   "cell_type": "code",
   "source": [
    "data = [0, 0, 1, 0, 0, 2, 0, 0, 0, 3]\n",
    "series = pd.Series(data)\n",
    "series"
   ],
   "id": "88a3c579ef2eaa62",
   "outputs": [
    {
     "data": {
      "text/plain": [
       "0    0\n",
       "1    0\n",
       "2    1\n",
       "3    0\n",
       "4    0\n",
       "5    2\n",
       "6    0\n",
       "7    0\n",
       "8    0\n",
       "9    3\n",
       "dtype: int64"
      ]
     },
     "execution_count": 1,
     "metadata": {},
     "output_type": "execute_result"
    }
   ],
   "execution_count": 1
  },
  {
   "metadata": {},
   "cell_type": "markdown",
   "source": "#### Nakon što smo od liste napravili pandas seriju, konvertovaćemo je u sparse seriju, uz pomoć SparseArray modula.",
   "id": "9db60c81fa48b33b"
  },
  {
   "metadata": {
    "ExecuteTime": {
     "end_time": "2025-01-28T12:43:31.872558Z",
     "start_time": "2025-01-28T12:43:31.866106Z"
    }
   },
   "cell_type": "code",
   "source": [
    "sparse_series = pd.Series(pd.arrays.SparseArray(data))\n",
    "sparse_series"
   ],
   "id": "3d53080ebe732c6e",
   "outputs": [
    {
     "data": {
      "text/plain": [
       "0    0\n",
       "1    0\n",
       "2    1\n",
       "3    0\n",
       "4    0\n",
       "5    2\n",
       "6    0\n",
       "7    0\n",
       "8    0\n",
       "9    3\n",
       "dtype: Sparse[int64, 0]"
      ]
     },
     "execution_count": 7,
     "metadata": {},
     "output_type": "execute_result"
    }
   ],
   "execution_count": 7
  },
  {
   "metadata": {},
   "cell_type": "markdown",
   "source": "#### Naizgled deluje kao da smo dobili identičnu seriju, međutim, razlike u memorijskom zauzeću postaju izrazito primetne kod serija većih dimenzija. Kreiraćemo listu sa milion nula i tri nenulta elementa na kraju liste.",
   "id": "df18c39168e4342b"
  },
  {
   "metadata": {
    "ExecuteTime": {
     "end_time": "2025-01-28T12:48:30.567201Z",
     "start_time": "2025-01-28T12:48:30.251567Z"
    }
   },
   "cell_type": "code",
   "source": [
    "large_data = [0] * 1000000 + [1, 2, 3]\n",
    "\n",
    "dense_series = pd.Series(large_data)\n",
    "\n",
    "sparse_series_large = pd.Series(pd.arrays.SparseArray(large_data))\n",
    "\n",
    "print(\"\\nMemorijsko zauzeće (gusta serija):\", dense_series.memory_usage(deep=True))\n",
    "print(\"Memorijsko zauzeće (sparse serija):\", sparse_series_large.memory_usage(deep=True))"
   ],
   "id": "fb0ec2727239408c",
   "outputs": [
    {
     "name": "stdout",
     "output_type": "stream",
     "text": [
      "\n",
      "Memorijsko zauzeće (gusta serija): 8000156\n",
      "Memorijsko zauzeće (sparse serija): 168\n"
     ]
    }
   ],
   "execution_count": 8
  },
  {
   "metadata": {},
   "cell_type": "markdown",
   "source": "#### Na osnovu poređenja memorijskog zauzeća obične i sparse serije, primećujemo da je ušteda memorijskog prostora skoro 8 miliona bajtova (8 megabajta). Sem uštede memorije, prednosti sparse struktura je kompatibilnost sa Pandas funkcijama: (sparse objekti podržavaju većinu standardnih Pandas operacija), kao i efikasnije računanje (operacije na sparse objektima mogu biti brže zbog smanjenja veličine podataka).",
   "id": "d6c68a34adddde06"
  },
  {
   "metadata": {
    "ExecuteTime": {
     "end_time": "2025-01-28T12:57:50.672343Z",
     "start_time": "2025-01-28T12:57:50.663787Z"
    }
   },
   "cell_type": "code",
   "source": [
    "data = {\n",
    "    'A': [0, 0, 1, 0],\n",
    "    'B': [0, 2, 0, 0],\n",
    "    'C': [0, 0, 0, 3]\n",
    "}\n",
    "df = pd.DataFrame(data)\n",
    "\n",
    "sparse_df = df.astype(pd.SparseDtype(\"float\", 0))\n",
    "\n",
    "print(df)\n",
    "print(sparse_df)"
   ],
   "id": "847d13057db97c43",
   "outputs": [
    {
     "name": "stdout",
     "output_type": "stream",
     "text": [
      "   A  B  C\n",
      "0  0  0  0\n",
      "1  0  2  0\n",
      "2  1  0  0\n",
      "3  0  0  3\n",
      "     A    B    C\n",
      "0    0    0    0\n",
      "1    0  2.0    0\n",
      "2  1.0    0    0\n",
      "3    0    0  3.0\n"
     ]
    }
   ],
   "execution_count": 12
  },
  {
   "metadata": {},
   "cell_type": "markdown",
   "source": "#### Prikazali smo kreiranje sparse datafrejma na osnovu običnog. Prilikom ispisa takođe deluju identično, ali smo prikazali prethodno u čemu se ogledaju razlike. Takođe, kao što smo već naveli, sparse strukture podržavaju iste funkcije kao i regularne pandas serije i datafrejmovi.",
   "id": "62b4cbc910a6cfdb"
  },
  {
   "metadata": {
    "ExecuteTime": {
     "end_time": "2025-01-28T13:11:24.317660Z",
     "start_time": "2025-01-28T13:11:24.309208Z"
    }
   },
   "cell_type": "code",
   "source": [
    "sparse_df['D']=sparse_df['B']*3.47\n",
    "sparse_df.groupby('A')['D'].sum()"
   ],
   "id": "39fdbc937b001290",
   "outputs": [
    {
     "data": {
      "text/plain": [
       "A\n",
       "0      6.94\n",
       "1.0     0.0\n",
       "Name: D, dtype: Sparse[float64, np.float64(0.0)]"
      ]
     },
     "execution_count": 15,
     "metadata": {},
     "output_type": "execute_result"
    }
   ],
   "execution_count": 15
  }
 ],
 "metadata": {
  "kernelspec": {
   "display_name": "Python 3",
   "language": "python",
   "name": "python3"
  },
  "language_info": {
   "codemirror_mode": {
    "name": "ipython",
    "version": 2
   },
   "file_extension": ".py",
   "mimetype": "text/x-python",
   "name": "python",
   "nbconvert_exporter": "python",
   "pygments_lexer": "ipython2",
   "version": "2.7.6"
  }
 },
 "nbformat": 4,
 "nbformat_minor": 5
}
